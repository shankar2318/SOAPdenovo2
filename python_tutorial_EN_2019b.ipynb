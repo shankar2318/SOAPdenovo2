{
  "nbformat": 4,
  "nbformat_minor": 0,
  "metadata": {
    "kernelspec": {
      "display_name": "Python 3",
      "language": "python",
      "name": "python3"
    },
    "language_info": {
      "codemirror_mode": {
        "name": "ipython",
        "version": 3
      },
      "file_extension": ".py",
      "mimetype": "text/x-python",
      "name": "python",
      "nbconvert_exporter": "python",
      "pygments_lexer": "ipython3",
      "version": "3.6.8"
    },
    "colab": {
      "provenance": [],
      "toc_visible": true,
      "include_colab_link": true
    }
  },
  "cells": [
    {
      "cell_type": "markdown",
      "metadata": {
        "id": "view-in-github",
        "colab_type": "text"
      },
      "source": [
        "<a href=\"https://colab.research.google.com/github/shankar2318/SOAPdenovo2/blob/master/python_tutorial_EN_2019b.ipynb\" target=\"_parent\"><img src=\"https://colab.research.google.com/assets/colab-badge.svg\" alt=\"Open In Colab\"/></a>"
      ]
    },
    {
      "cell_type": "markdown",
      "metadata": {
        "id": "B3l5gNR7JNAx"
      },
      "source": [
        "This environment is **Jupyter Notebook**, in which you can run python codes while taking notes. In this class, we will use this notebook at the first step of understanding the Python language. <br>\n",
        "While this environment is a bit different from a normal environment in which a python script runs, you can learn and see how python codes works."
      ]
    },
    {
      "cell_type": "markdown",
      "metadata": {
        "id": "l7kSwOLgJNAy"
      },
      "source": [
        "**Structure of the notebook**<br>\n",
        "This notebook consists of text boxes called \"Cells\". There are two kind of cells.\n",
        "\n",
        "|Type of cell||\n",
        "|---|---|\n",
        "|**Text Cell**| cells with white background are for taking notes. The cell you are looking at is a text cell.<br> Since important instructions are written in text cell, please **do NOT edit them**.\n",
        "|**Code Cell**| cells with shaded background are for codes. You can write python codes and execute|\n",
        "\n",
        "There is 14 sections in this notebook. Read instructions thoroughly and work on all exercise problems!"
      ]
    },
    {
      "cell_type": "markdown",
      "metadata": {
        "id": "avqI4uXeJNAz"
      },
      "source": [
        "# <font color=\"Crimson\">1</font>&nbsp;<font color=\"silver\">|</font> &nbsp;Welcome to Python!"
      ]
    },
    {
      "cell_type": "markdown",
      "metadata": {
        "id": "JrQEqDxCJSSr"
      },
      "source": [
        "## 1.1 | <font color=\"Crimson\">Printing 'Hello, world'\n",
        "First of all, let''s see how to output values using Python. Outputting values is one of fundamental and essential function of computer softwares!\n",
        "\n",
        "Below is a kind of the simplest python code, which outputs text, \"Hello, world\" on a screen.  \n",
        "To execute the code, you need to run the cell by clicking it then either **press \"Shift\" + \"Enter\"** keys on your keyboard or **click the play button** on the left side."
      ]
    },
    {
      "cell_type": "code",
      "metadata": {
        "deletable": false,
        "editable": false,
        "id": "xbKABYI3JNA0"
      },
      "source": [
        "# Run this cell\n",
        "print(\"Hello, world\")"
      ],
      "execution_count": null,
      "outputs": []
    },
    {
      "cell_type": "markdown",
      "metadata": {
        "id": "D4eyUGfkJNA3"
      },
      "source": [
        "You'll get \"Hello, world\" as a output. In Python, the `print()` function is used to tell a computer to talk. The message to be printed should be surrounded by quotes."
      ]
    },
    {
      "cell_type": "code",
      "metadata": {
        "deletable": false,
        "editable": false,
        "id": "2_i1jJ0dJNA4"
      },
      "source": [
        "# Run this cell\n",
        "print(\"Hello, python!\")"
      ],
      "execution_count": null,
      "outputs": []
    },
    {
      "cell_type": "markdown",
      "metadata": {
        "id": "3NqP1JCm5nS8"
      },
      "source": [
        "Computer programmers refer to blocks of text as strings. In our last exercise, we created the string “Hello, python!”. In Python a string is either surrounded by double quotes (`\"Hello world\"`) or single quotes (`'Hello world'`). It doesn’t matter which kind you use, just be consistent."
      ]
    },
    {
      "cell_type": "code",
      "metadata": {
        "deletable": false,
        "editable": false,
        "id": "qeoC84VvJNA8"
      },
      "source": [
        "# Run this cell\n",
        "print(Hello, world)"
      ],
      "execution_count": null,
      "outputs": []
    },
    {
      "cell_type": "markdown",
      "metadata": {
        "id": "Z3ziXo1BJNA_"
      },
      "source": [
        "You will get an error message. This is because python try to interpret a word \"Hello\" in a different way, not a normal text. We'll learn more about this later on. **You always need quotations (\" or ') to output text.**"
      ]
    },
    {
      "cell_type": "markdown",
      "metadata": {
        "id": "BdGvaKPE6Dh-"
      },
      "source": [
        "If your print statement uses double-quotes \", change them to single-quotes '. If it uses single-quotes ', change them to double-quotes \".\n",
        "\n",
        "Try running your code again after switching the type of quote-marks. Is anything different about the output?"
      ]
    },
    {
      "cell_type": "markdown",
      "metadata": {
        "id": "UzT67cYjJNBA"
      },
      "source": [
        "### Exercise <font color=\"Crimson\">1-1</font>\n",
        "Here is an exercise. **Modify a code below to output your name.** Ask instructors if you have any questions."
      ]
    },
    {
      "cell_type": "code",
      "metadata": {
        "id": "YZ6WQviJJNBB"
      },
      "source": [
        "#Exercise 1-1\n",
        "print(\"TakuroNakayama\")"
      ],
      "execution_count": null,
      "outputs": []
    },
    {
      "cell_type": "markdown",
      "metadata": {
        "id": "Mm5-GkrqJNBF"
      },
      "source": [
        "### Exercise <font color=\"Crimson\">1-2</font>\n",
        "**Modify a code below to output any kind of text you want.** Ask instructors if you have any questions"
      ]
    },
    {
      "cell_type": "code",
      "metadata": {
        "id": "GhLSI4fBJNBG"
      },
      "source": [
        "#Exercise 1-2\n",
        "print(\"hogehoge\")"
      ],
      "execution_count": null,
      "outputs": []
    },
    {
      "cell_type": "markdown",
      "metadata": {
        "id": "qL4vW3pX6o1v"
      },
      "source": [
        "### Exercise <font color=\"Crimson\">1-3</font>\n",
        "**Try to print** `I am learning Python`**.** Remember the quotation rules."
      ]
    },
    {
      "cell_type": "code",
      "metadata": {
        "id": "PN_gBIwx6nml"
      },
      "source": [
        "#Exercise 1-3\n",
        "print()"
      ],
      "execution_count": null,
      "outputs": []
    },
    {
      "cell_type": "markdown",
      "metadata": {
        "id": "tB9JHDOUJNBJ"
      },
      "source": [
        "**Tips**: You can use single quotations instead of double quotations."
      ]
    },
    {
      "cell_type": "markdown",
      "metadata": {
        "id": "PgLnM46MJNBO"
      },
      "source": [
        "# <font color=\"Crimson\">2</font>&nbsp;<font color=\"silver\">|</font> &nbsp;Calculation"
      ]
    },
    {
      "cell_type": "markdown",
      "metadata": {
        "id": "Li6ZleNCJJ3T"
      },
      "source": [
        "## 2.1 | <font color=\"Crimson\">Simple Addition\n",
        "Now you have learned how to output text with python. Another essential function of computer softwares besides outputting is a computation. Next, try simple calculations using python.\n",
        "Below is a code for outputting a integer, 1. **In this case, you don't need any quotation because 1 here is not a text but a calculable value.**"
      ]
    },
    {
      "cell_type": "code",
      "metadata": {
        "id": "9ImctaMnJNBP"
      },
      "source": [
        "# Run this cell\n",
        "print(1)"
      ],
      "execution_count": null,
      "outputs": []
    },
    {
      "cell_type": "markdown",
      "metadata": {
        "id": "XLccfagmJNBT"
      },
      "source": [
        "If you put a numerical expression, the print function will output result value of the expression. Please try a code below."
      ]
    },
    {
      "cell_type": "code",
      "metadata": {
        "id": "aZmfDhFuJNBU"
      },
      "source": [
        "# Run this cell\n",
        "print( 2 + 3 )"
      ],
      "execution_count": null,
      "outputs": []
    },
    {
      "cell_type": "markdown",
      "metadata": {
        "id": "dxpEAajbJadO"
      },
      "source": [
        "### Exercise <font color=\"Crimson\">2-1\n",
        "\n",
        "**Using `print()` and `+`, output the sum of the following list of numbers: 1, 2, 3, 4, 5, 6**\n",
        "\n",
        "Expected result:\n",
        "  ```\n",
        "  21\n",
        "  ```"
      ]
    },
    {
      "cell_type": "code",
      "metadata": {
        "id": "-z_Po4mtJ2iT"
      },
      "source": [
        "#Exercise 2-1"
      ],
      "execution_count": null,
      "outputs": []
    },
    {
      "cell_type": "markdown",
      "metadata": {
        "id": "Y09iU0hHJNBY"
      },
      "source": [
        "## 2.2 | <font color=\"Crimson\">Other Simple Operations\n",
        "  \n",
        "Here is how to express basic arithmetic operations in python\n",
        "\n",
        "- _Addition of numbers_ `a + b`\n",
        "- _Subtraction of numbers_ `a - b`\n",
        "- _Multiplication of number_ `a * b`\n",
        "- _Division of number_ `a / b`\n",
        "- _Modulus: Divides left hand operand by right hand operand and returns remainder_ `a % b`\n",
        "- _Exponent: Performs exponential (power) calculation on operators_ `a ** b`\n",
        "\n",
        "See website below for details\n",
        "https://www.tutorialspoint.com/python/arithmetic_operators_example.htm"
      ]
    },
    {
      "cell_type": "markdown",
      "metadata": {
        "id": "rcv3RzSiJNBZ"
      },
      "source": [
        "Some examples for basic calculation"
      ]
    },
    {
      "cell_type": "code",
      "metadata": {
        "id": "Dlg568QQJNBa"
      },
      "source": [
        "print(3+2)\n",
        "print(3-2)\n",
        "print(3*2)\n",
        "print(3/2)\n",
        "print(3%2)\n",
        "print(3**2)"
      ],
      "execution_count": null,
      "outputs": []
    },
    {
      "cell_type": "markdown",
      "metadata": {
        "id": "6rG6wljmJNBd"
      },
      "source": [
        "Following code computes and outputs a result of a expression below\n",
        "$$\n",
        "    \\bigl( 2 + 3 \\bigr) \\times 4 ^{3}\n",
        "$$"
      ]
    },
    {
      "cell_type": "code",
      "metadata": {
        "id": "mF7P8b_O83Pt"
      },
      "source": [
        "print((2+3)*(4**3))"
      ],
      "execution_count": null,
      "outputs": []
    },
    {
      "cell_type": "markdown",
      "metadata": {
        "id": "NTXIiNa8JNBe"
      },
      "source": [
        "### Exercise <font color=\"Crimson\">2-2</font>\n",
        "**Write codes, which calculate and output results of following expressions.** Ask instructors if you have any questions\n",
        "\n",
        "Expression 1\n",
        "$$\n",
        "10 + 20 \\times 40 \\div 50\n",
        "$$\n",
        "Expression 2\n",
        "$$\n",
        "\\bigl( 1 + 2 + 3 \\bigr) \\times 51\n",
        "$$\n",
        "Expression 3\n",
        "$$\n",
        "23482 \\times 23281 \\div 34\n",
        "$$"
      ]
    },
    {
      "cell_type": "code",
      "metadata": {
        "id": "sVmeCoUbJNBf"
      },
      "source": [
        "#Exercise 2-2\n",
        "\n",
        "# code for expression 1\n",
        "print()\n",
        "# code for expression 2\n",
        "print()\n",
        "# code for expression 3\n",
        "print()\n"
      ],
      "execution_count": null,
      "outputs": []
    },
    {
      "cell_type": "markdown",
      "metadata": {
        "id": "xDrDJzL9JNBm"
      },
      "source": [
        "# <font color=\"Crimson\">3</font>&nbsp;<font color=\"silver\">|</font> &nbsp;Instance and Class"
      ]
    },
    {
      "cell_type": "markdown",
      "metadata": {
        "id": "fHDn8eT_KYMd"
      },
      "source": [
        "## 3.1 | <font color=\"Crimson\">Instance and Class\n",
        "  \n",
        "We learned when you provide an expression to `print()`, the code will outputs a result of the calculation. `print(1 + 2)` outputs `3`. Then how would you do when you want to output the expression `1 + 2` not the result value?\n",
        "\n",
        "Below is a solution."
      ]
    },
    {
      "cell_type": "code",
      "metadata": {
        "id": "t5eE3e6iJNBm"
      },
      "source": [
        "print(\"1 + 2\")"
      ],
      "execution_count": null,
      "outputs": []
    },
    {
      "cell_type": "markdown",
      "metadata": {
        "id": "W178k7Y_JNBr"
      },
      "source": [
        "The code above outputs `1 + 2` as is because `1 + 2` is surrounded by quotation marks (`\"`). The expressions `1 + 2` and `\"1 + 2\"` look alike each other for human, but actually python interprets those as quite different things. To understand this, you need to learn the concept of **instance** and **class**.\n",
        "\n",
        "Values in python programs called **instance**. So, for instance, both `1 + 2` and `\"1 + 2\"` are instances. And every instance in python belongs to a group called **class**. Simply stated, you can think a **class** represents a type of the instance. There is a way to check to what class a instance belongs.\n",
        "\n",
        "Check classes of `1` and `\"1\"`. Again, those are similar to human eye, but are completely different in python. To check a class of a instance, a code `type()` is useful. In this case, `type(1)` and `type(\"1\")`. You need to provide those to `print()` so that a result of `type()` function is printed."
      ]
    },
    {
      "cell_type": "code",
      "metadata": {
        "id": "WqHgwB2fJNBs"
      },
      "source": [
        "print(type(1))"
      ],
      "execution_count": null,
      "outputs": []
    },
    {
      "cell_type": "code",
      "metadata": {
        "id": "x7xcR2nwJNBv"
      },
      "source": [
        "print(type(\"1\"))"
      ],
      "execution_count": null,
      "outputs": []
    },
    {
      "cell_type": "markdown",
      "metadata": {
        "id": "gswXOP9wJNBz"
      },
      "source": [
        "You will get `<class 'int'>` and `<class 'str'>` for `1` and `\"1\"`, respectively. `class 'int'` indicates integer class, and `class 'str'` indicates string class. *string* is a synomym of text in python: string class is a class of text. Thus python interprets `1` as an integer and `\"1\"` as an text.\n",
        "In the case of `1 + 2`, python interprets `1` and `2` as integer values and calculable, so python executes the calculation."
      ]
    },
    {
      "cell_type": "markdown",
      "metadata": {
        "id": "9hccsjXAJNB0"
      },
      "source": [
        "### Exercise <font color=\"Crimson\">3-1</font>\n",
        "**Write code, which outputs a class name of a instance** `1.53`.  "
      ]
    },
    {
      "cell_type": "code",
      "metadata": {
        "id": "gwKu9lz-JNB2"
      },
      "source": [
        "#Exercise 3-1\n",
        "print()"
      ],
      "execution_count": null,
      "outputs": []
    },
    {
      "cell_type": "markdown",
      "metadata": {
        "id": "-z-J9dYoJNB8"
      },
      "source": [
        "It is very important to be aware to what class each instance belongs in writing a python code, because behavior of python functions vary by the class of instances.\n",
        "Guess what output you will get from a code below. Here, both `\"1\"` and `\"2\"` are string class instances."
      ]
    },
    {
      "cell_type": "code",
      "metadata": {
        "id": "zgYwTg9KJNB9"
      },
      "source": [
        "print(\"1\" + \"2\")"
      ],
      "execution_count": null,
      "outputs": []
    },
    {
      "cell_type": "markdown",
      "metadata": {
        "id": "IlCn3yLiJNCh"
      },
      "source": [
        "When you use '`+`'  on string instances, it returns a combination of two texts. Next, try the code below."
      ]
    },
    {
      "cell_type": "code",
      "metadata": {
        "id": "GaefqpRVJNCi"
      },
      "source": [
        "# Run this cell.\n",
        "print(\"1\" * \"2\")"
      ],
      "execution_count": null,
      "outputs": []
    },
    {
      "cell_type": "markdown",
      "metadata": {
        "id": "viq52SKmJNCn"
      },
      "source": [
        "You'll get an error. This is because a string instance cannot be multiplied by a string instance."
      ]
    },
    {
      "cell_type": "markdown",
      "metadata": {
        "solution2": "hidden",
        "solution2_first": true,
        "id": "yYXD2XGbJNCo"
      },
      "source": [
        "### Exercise <font color=\"Crimson\">3-2</font>\n",
        "`print()` function can accept multiple values seperated by commas and outputs combination of those values separated by spaces. A code `print(\"Tohoku\", \"university\")` will outputs `Tohoku university`."
      ]
    },
    {
      "cell_type": "code",
      "metadata": {
        "id": "6wIKy7kS-1Em"
      },
      "source": [
        "#Example\n",
        "print(\"Tohoku\", \"university\")"
      ],
      "execution_count": null,
      "outputs": []
    },
    {
      "cell_type": "markdown",
      "metadata": {
        "id": "52ppasbP-1Q7"
      },
      "source": [
        "Using this, **write code, which outputs two values, one is** `\"Result of 121 * 33 is\"`**, another one is result of** `121 * 33`**.** Execution result should be `Result of 121 * 33 is 3993`."
      ]
    },
    {
      "cell_type": "code",
      "metadata": {
        "solution2": "hidden",
        "id": "0fGwhg5WJNCp"
      },
      "source": [
        "#Example\n",
        "print(\"Result of 1 + 3 is\", 1 + 3)"
      ],
      "execution_count": null,
      "outputs": []
    },
    {
      "cell_type": "code",
      "metadata": {
        "id": "GUJIZLRBJNCr"
      },
      "source": [
        "#Exercise 3-2\n",
        "print()"
      ],
      "execution_count": null,
      "outputs": []
    },
    {
      "cell_type": "markdown",
      "metadata": {
        "id": "TCkQp9ROJNCt"
      },
      "source": [
        "# <font color=\"Crimson\">4</font>&nbsp;<font color=\"silver\">|</font> &nbsp;Variables"
      ]
    },
    {
      "cell_type": "markdown",
      "metadata": {
        "id": "7lyM2s_bKif5"
      },
      "source": [
        "## 4.1 | <font color=\"Crimson\">Assign a Value in Variable"
      ]
    },
    {
      "cell_type": "markdown",
      "metadata": {
        "id": "jHQhK537JNCt"
      },
      "source": [
        "With knowledge we learned so far, let's write a code to calculate total price of goods from a grocery store.\n",
        "You are going to buy an apple, two oranges and three avocados. Prices are 100 yen, 70 yen and 130 yen for an apple, an orange and an avocado, respectively. Below is an example code to calculate total price of those goods."
      ]
    },
    {
      "cell_type": "code",
      "metadata": {
        "id": "yclXSOGJJNCu"
      },
      "source": [
        "apple_price = 100\n",
        "orange_price = 70\n",
        "avocado_price = 130\n",
        "\n",
        "total_price = ( apple_price * 1 ) + ( orange_price * 2 ) + ( avocado_price * 3 )\n",
        "\n",
        "print(total_price)"
      ],
      "execution_count": null,
      "outputs": []
    },
    {
      "cell_type": "markdown",
      "metadata": {
        "id": "ijiX2EG9JNCw"
      },
      "source": [
        "Think what is happening here.\n",
        "\n",
        "For example, after the line `apple_price = 100`,  `apple_price` behaves as an integer `100`. Similarly, `orange_price` and `avocado_price` behave as `70` and `130`, respectively. This means that a line `apple_price = 100` assigns `100` to `apple_price`. Hereafter `apple_price` is treated as `100`.\n",
        "\n",
        "Here, `apple_price`, `orange_price` and `avocado_price`  are not strings but are something called **variables**. In programing languages, values are usually assigned into variables. Variables make programing codes easy-to-read and easy-to-modify.\n",
        "\n",
        "The line\n",
        "\n",
        "`total_price = ( apple_price * 1 ) + ( orange_price * 2 ) + ( avocado_price * 3 )`\n",
        "\n",
        "equals\n",
        "\n",
        "`total_price = ( 100 * 1 ) + ( 70 * 2 ) + ( 130 * 3 )`\n",
        "\n",
        "By this line, a result of the right side expression is assigned to a variable `total_price`. And the `print(total_price)` outputs the total price of those goods."
      ]
    },
    {
      "cell_type": "markdown",
      "metadata": {
        "id": "qLbjh7gHFQ1W"
      },
      "source": [
        "### Exercise <font color=\"Crimson\">4-1</font>\n",
        "\n",
        "By using variables, **make a code that calculates a total value of following items.** Use lowercase alphabets \"a-z\" or underscore \"_\" for variable names.\n",
        "- 3 cups of coffee (300 yen per cup)\n",
        "- 1 cup of tea (300 yen per cup)\n",
        "- 1 cup of cappuccino (400 yen per cup)\n",
        "- 2 cups of mocha cookie frappuccino (550 yen per cup)"
      ]
    },
    {
      "cell_type": "code",
      "metadata": {
        "id": "YaSqnlyEFZSZ"
      },
      "source": [
        "#Exercise 4-1\n",
        "\n",
        "coffee_price =\n",
        "=\n",
        "=\n",
        "=\n",
        "total_price =\n",
        "print(\"The total for the order is \", total_price,\"yen.\")"
      ],
      "execution_count": null,
      "outputs": []
    },
    {
      "cell_type": "markdown",
      "metadata": {
        "id": "ETRbC7kDCLSF"
      },
      "source": [
        "## 4.2 | <font color=\"Crimson\">Characters that cannot be used in variables.\n",
        "\n",
        "For variable names, You can use **all alphabets (\"A-Z\" and \"a-z\")**, **underscore (\"_\")** and **numbers (\"0-9\")**.  However, variable names that start with a number cannot be used.\n",
        "\n",
        "For example\n"
      ]
    },
    {
      "cell_type": "code",
      "metadata": {
        "id": "OTTg4-9fCnEq"
      },
      "source": [
        "# Run this cell and notice the error.\n",
        "140yen = 140"
      ],
      "execution_count": null,
      "outputs": []
    },
    {
      "cell_type": "markdown",
      "metadata": {
        "id": "9fyt40wDDEa1"
      },
      "source": [
        "If you write like this, an error occurs. Also, python comes with some words that have special meanings. This is called a reserved word and will result in an error if used as a variable name.\n",
        "\n",
        "Examples of reserved words:\n",
        "```\n",
        "['False', 'None', 'True', 'and', 'as', 'assert', 'break', 'class', 'continue',\n",
        " 'def', 'del', 'elif', 'else', 'except', 'finally', 'for', 'from', 'global',\n",
        " 'if', 'import', 'in', 'is', 'lambda', 'nonlocal', 'not', 'or', 'pass', 'raise',\n",
        " 'return', 'try', 'while', 'with', 'yield']\n",
        "```"
      ]
    },
    {
      "cell_type": "code",
      "metadata": {
        "id": "7wKJVySGC4Vc"
      },
      "source": [
        "# Run this cell and notice the error.\n",
        "lambda = 5"
      ],
      "execution_count": null,
      "outputs": []
    },
    {
      "cell_type": "markdown",
      "metadata": {
        "id": "ujARMvYRDMN2"
      },
      "source": [
        "### Exercise <font color=\"Crimson\">4-2</font>\n",
        "\n",
        "Taro really likes walking and he is planning to walk from Kobe to Sendai. Assuming that Taro's walking speed is 5 km/hr and Kobe-Sendai is 860 km, write a code that calculates the time it takes for Taro to walk between Kobe and Sendai.\n",
        "\n",
        "Make sure that the answer looks like Taro will need XXX hours."
      ]
    },
    {
      "cell_type": "code",
      "metadata": {
        "id": "IaH3hKWuDEF3"
      },
      "source": [
        "#Exercise 4-2\n",
        "=\n",
        "=\n",
        "=\n",
        "print()"
      ],
      "execution_count": null,
      "outputs": []
    },
    {
      "cell_type": "markdown",
      "metadata": {
        "id": "NiO-VLNxJUWT"
      },
      "source": [
        "# <font color=\"Crimson\">5</font>&nbsp;<font color=\"silver\">|</font> &nbsp;String"
      ]
    },
    {
      "cell_type": "markdown",
      "metadata": {
        "id": "aH3-MKcJK8mR"
      },
      "source": [
        "## 5.1 | <font color=\"Crimson\">Special Characters"
      ]
    },
    {
      "cell_type": "markdown",
      "metadata": {
        "id": "nJwWTUyaJW9H"
      },
      "source": [
        "As mentioned before, characters enclosed in quotation marks (`\"` and `'`) in the code are recognized as string objects.\n",
        "\n",
        "If you want to use quotes in the string, you can avoid the end of the string by typing a backslash \\ before the quotes."
      ]
    },
    {
      "cell_type": "code",
      "metadata": {
        "id": "F_eAFM1jJxDY"
      },
      "source": [
        "# Run this cell.\n",
        "print(\"This university is named \\\"Tohoku University\\\".\")"
      ],
      "execution_count": null,
      "outputs": []
    },
    {
      "cell_type": "markdown",
      "metadata": {
        "id": "Gtf7dUQKJW0L"
      },
      "source": [
        "In this way, special characters can be expressed in the string object by combining backslash and other characters.\n",
        "\n",
        "This is called an escape sequence.\n",
        "\n",
        "The typical one\n",
        "\n",
        "* `\\t` : tab\n",
        "* `\\n` : line feed\n",
        "* `\\\" ` : double quotation\n",
        "* `\\'` : single quotation\n",
        "* `\\\\` : backslash\n",
        "\n",
        "For more information, try a web search with the python escape sequence."
      ]
    },
    {
      "cell_type": "code",
      "metadata": {
        "id": "N321VY5gKkjP"
      },
      "source": [
        "print(\"If \\t is entered in the string object, \\t can be expressed like this. \\n Also, if you enter \\\\n, it will be a line break like this.\\n\")"
      ],
      "execution_count": null,
      "outputs": []
    },
    {
      "cell_type": "markdown",
      "metadata": {
        "id": "5saV19f96fHF"
      },
      "source": [
        "### Exercise <font color=\"Crimson\">5-1\n",
        "**Write a code that has the following output:**\n",
        "```\n",
        "He said, 'One'  \"Two\"  'Three'.\n",
        "```"
      ]
    },
    {
      "cell_type": "code",
      "metadata": {
        "id": "WOasALUR6eaA"
      },
      "source": [
        "#Exercise 5-1\n",
        "print()"
      ],
      "execution_count": null,
      "outputs": []
    },
    {
      "cell_type": "markdown",
      "metadata": {
        "id": "MAEvX_HN6cvM"
      },
      "source": [
        "### Exercise <font color=\"Crimson\">5-2\n",
        "**Write a code that has the following output:**\n",
        "```\n",
        "Once upon a time\n",
        "  There's a princess living in a castle\n",
        "    Her name is \"Princess Peach\"\n",
        "```"
      ]
    },
    {
      "cell_type": "code",
      "metadata": {
        "id": "2YwPbLgC6b5B"
      },
      "source": [
        "#Exercise 5-2\n",
        "print()"
      ],
      "execution_count": null,
      "outputs": []
    },
    {
      "cell_type": "markdown",
      "metadata": {
        "id": "kKFFKbJFLCPs"
      },
      "source": [
        "## 5.2 | <font color=\"Crimson\">Converting `int` to `string`"
      ]
    },
    {
      "cell_type": "markdown",
      "metadata": {
        "id": "TnpQ92D1LAu1"
      },
      "source": [
        "When outputting a character string from the code, you may want to convert the instance defined/generated in the code into a character string and output it with any character string.\n",
        "\n",
        "For example, if Lisa's height is 160cm, that value is assigned to a variable, and you want the output to be `Lisa's height is 160cm.`, this can be done using the print () function."
      ]
    },
    {
      "cell_type": "code",
      "metadata": {
        "id": "8GN75HZqKkZD"
      },
      "source": [
        "height = 160\n",
        "print(\"Lisa's height is\", height, \"cm.\")"
      ],
      "execution_count": null,
      "outputs": []
    },
    {
      "cell_type": "markdown",
      "metadata": {
        "id": "cBoAfLdPMWfC"
      },
      "source": [
        "However, this will cause an extra space between the concatenated strings and values.\n",
        "\n",
        "Another method is to use the `str()` function. The `str()` function converts a given instance into a string.\n",
        "\n",
        "For example, `str(10)` is not the numeric value 10 but the same as the string `10`. If the variable height of the above code is converted to a string, all instances that you want to output will be strings, so you can concatenate the strings with `+`."
      ]
    },
    {
      "cell_type": "code",
      "metadata": {
        "id": "ltJPqnnaJRVe"
      },
      "source": [
        "height = 160\n",
        "print(\"Lisa's height is \" + str(height) + \"cm.\")\n",
        "\n",
        "height_str = str(160)\n",
        "print(\"Lisa's height is \" + height_str + \"cm.\")"
      ],
      "execution_count": null,
      "outputs": []
    },
    {
      "cell_type": "markdown",
      "metadata": {
        "id": "fKd-LexL7iNs"
      },
      "source": [
        "### Exercise <font color=\"Crimson\">5-3\n",
        "Complete the following code so that it has the following output:\n",
        "```\n",
        "Lisa's height is 160cm and her weight is 55kg.\n",
        "```"
      ]
    },
    {
      "cell_type": "code",
      "metadata": {
        "id": "onA1IN6C8GBe"
      },
      "source": [
        "#Exercise 5-3\n",
        "name =\n",
        "height =\n",
        "weight =\n",
        "print()"
      ],
      "execution_count": null,
      "outputs": []
    },
    {
      "cell_type": "markdown",
      "metadata": {
        "id": "URVBs3ZDNFUY"
      },
      "source": [
        "## 5.3 | <font color=\"Crimson\">Embedding of Variable using `.format()`\n",
        "  \n",
        "Another way is to embed a value in the string.\n",
        "\n",
        "If you use `.format()`, you can embed variables in the string and expand them in the string."
      ]
    },
    {
      "cell_type": "code",
      "metadata": {
        "id": "O2wNs6MuNE-i"
      },
      "source": [
        "height = 160\n",
        "print(\"Lisa's height is {}cm.\".format(height))\n",
        "\n",
        "# You can also do this.\n",
        "height = 160\n",
        "output_str = \"Lisa's height is {}cm.\".format(height)\n",
        "print(output_str)"
      ],
      "execution_count": null,
      "outputs": []
    },
    {
      "cell_type": "markdown",
      "metadata": {
        "id": "fKNIrEo9NjoV"
      },
      "source": [
        "In this way, when multiple instances are given to `.format()`, it is necessary to specify the position of the instance to be called in {} of the string.\n",
        "\n",
        "In that case, the position of the instance is counted as 0, 1, 2, ... from the top. In python, the position of an instance is called an index.\n",
        "\n",
        "By expanding the variable within the string, you can change the output by simply changing the variable contents."
      ]
    },
    {
      "cell_type": "code",
      "metadata": {
        "id": "rG2xm306NjSy"
      },
      "source": [
        "value = 160\n",
        "name=\"Lisa\"\n",
        "feature=\"height\"\n",
        "print(\"{0}'s {1} is {2}cm.\".format(name, feature, value))\n",
        "\n",
        "value = 174\n",
        "name=\"Taro\"\n",
        "feature=\"height\"\n",
        "print(\"{0}'s {1} is {2}cm.\".format(name, feature, value))"
      ],
      "execution_count": null,
      "outputs": []
    },
    {
      "cell_type": "code",
      "metadata": {
        "id": "-v8ibP2DJNC4"
      },
      "source": [
        "# You can also reuse instances of the same index.\n",
        "value = 174\n",
        "name=\"Taro\"\n",
        "feature=\"height\"\n",
        "print(\"{0}'s {1} is {2}cm. We don't know {0}'s weight.'\".format(name, feature, value))"
      ],
      "execution_count": null,
      "outputs": []
    },
    {
      "cell_type": "markdown",
      "metadata": {
        "id": "277bmsAh8Xea"
      },
      "source": [
        "### Exercise <font color=\"Crimson\">5-4\n",
        "Complete the code so it has the following output:\n",
        "```\n",
        "Lisa and Taro are Mr. Tanaka's children. Lisa was born first, but now Taro is taller than Lisa by 5cms.\n",
        "```\n"
      ]
    },
    {
      "cell_type": "code",
      "metadata": {
        "id": "zljjj5Z687RU"
      },
      "source": [
        "#Exercise 5-4\n",
        "first_kid =\n",
        "second_kid =\n",
        "first_kid_height = 160\n",
        "second_kid_height = 165\n",
        "print()"
      ],
      "execution_count": null,
      "outputs": []
    },
    {
      "cell_type": "markdown",
      "metadata": {
        "id": "0xJCCNfKQLIJ"
      },
      "source": [
        "## 5.4 | <font color=\"Crimson\">Decimal Places Using `.format()`\n",
        "`.format()` can also be used in the following way."
      ]
    },
    {
      "cell_type": "code",
      "metadata": {
        "id": "Se9DQncJJNC6"
      },
      "source": [
        "value=12\n",
        "print(\"{0:.2f}\".format(value))\n",
        "\n",
        "value=3.1293834823\n",
        "print(\"{0:.4f}\".format(value))"
      ],
      "execution_count": null,
      "outputs": []
    },
    {
      "cell_type": "markdown",
      "metadata": {
        "id": "gxTVrQtGQeBw"
      },
      "source": [
        "If you write like `: .2f` after the index in `{}` of the character string, you can output it as a decimal number specifying the decimal places."
      ]
    },
    {
      "cell_type": "code",
      "metadata": {
        "id": "aq8ltufxJNC8"
      },
      "source": [
        "float = 1 / 3\n",
        "print(float)\n",
        "integer = 2\n",
        "print(integer)\n",
        "\n",
        "print(\"By using .format()、the number will be shown like this: {0:.3f}\".format(float))\n",
        "print(\"By using .format()、the number will be shown like this: {0:.3f}\".format(integer))"
      ],
      "execution_count": null,
      "outputs": []
    },
    {
      "cell_type": "markdown",
      "metadata": {
        "id": "rsaT_BfI9Q_S"
      },
      "source": [
        "### Exercise <font color=\"Crimson\">5-5\n",
        "Calculate `7/13` three times so it has the following result:\n",
        "```\n",
        "The result is 0.538\n",
        "The result is 0.53846\n",
        "The result is 0.53846153\n",
        "```"
      ]
    },
    {
      "cell_type": "code",
      "metadata": {
        "id": "rNdshjg79kZ1"
      },
      "source": [
        "#Exercise 5-5\n",
        "number = 7/13\n",
        "print()\n",
        "print()\n",
        "print()"
      ],
      "execution_count": null,
      "outputs": []
    },
    {
      "cell_type": "markdown",
      "metadata": {
        "id": "KvptE9lwQ5Nn"
      },
      "source": [
        "# <font color=\"Crimson\">6</font>&nbsp;<font color=\"silver\">|</font> &nbsp;If Statement"
      ]
    },
    {
      "cell_type": "markdown",
      "metadata": {
        "id": "YyBB61ZmRUfv"
      },
      "source": [
        "## 6.1 | <font color=\"Crimson\">Standard `if` Statement\n",
        "  \n",
        "Now, you will learn about conditional branching syntax that branches processing according to conditions, and repeated syntax that repeats processing under certain conditions. The syntax that controls the flow of a program based on these conditions is collectively called control syntax.\n",
        "\n",
        "First, I will introduce a statement that uses the conditional branch syntax if. The basic structure of an if statement is as follows:\n",
        "\n",
        "```\n",
        "if [condition]:\n",
        "    [Process when condition is True]\n",
        "else:\n",
        "    [Process when condition is False]\n",
        "```\n",
        "     \n",
        "A conditional expression is given after `if`, and the processing to be performed when the condition is correct (True) and the processing to be performed when the condition is incorrect (False) are described separately. A simple example is given below."
      ]
    },
    {
      "cell_type": "code",
      "metadata": {
        "id": "1HwFFc11JNC-"
      },
      "source": [
        "print(\"Example 1\")\n",
        "x = 9\n",
        "if x > 0:\n",
        "  print(\"x is greater than 0.\")\n",
        "else:\n",
        "  print(\"x is at most 0.\")\n",
        "\n",
        "# Another example\n",
        "print(\"Example 2\")\n",
        "x = -2\n",
        "if x > 0:\n",
        "  print(\"x is greater then 0.\")\n",
        "else:\n",
        "  print(\"x is at most 0.\")"
      ],
      "execution_count": null,
      "outputs": []
    },
    {
      "cell_type": "markdown",
      "metadata": {
        "id": "ZqpRGwTzSmca"
      },
      "source": [
        "As you can see, changing the value of x in the conditional expression changes the truth of the conditional expression, and as a result the processing branch changes.\n",
        "\n",
        "In addition, there is no limit to the length of processing that follows if or else."
      ]
    },
    {
      "cell_type": "code",
      "metadata": {
        "id": "1ioVGQ9TSmIE"
      },
      "source": [
        "x = 0\n",
        "if x > 0:\n",
        "  print(\"x is greater than 0.\")\n",
        "  result = x + 12\n",
        "  print(\"The value of x + 12 is {}\".format(result))\n",
        "else:\n",
        "  print(\"x is at most 0.\")\n",
        "  result = x - 23\n",
        "  print(\"The value of x - 23 is {}\".format(result))"
      ],
      "execution_count": null,
      "outputs": []
    },
    {
      "cell_type": "markdown",
      "metadata": {
        "id": "4tlcPM0wTe_m"
      },
      "source": [
        "Here is a very important point in how to write python.\n",
        "```\n",
        "if [condition]:\n",
        "     [A. Process when the condition is True]\n",
        "else:\n",
        "     [B. Process when the condition is False]\n",
        "```\n",
        "In the above formula, process A is executed when `if` is true, and process B is executed when `else` is true. In other words, `if` and process `A`, `else` and process `B` can be thought of as independent pieces of code.\n",
        "\n",
        "In python, this group of codes is expressed using indentation. In addition, the rule is to put a colon(`:`) at the end of an `if` or `else` statement.\n",
        "\n",
        "In general, it is recommended to indent four spaces, but two spaces and tabs can also be used.\n",
        "\n",
        "<img src=\"https://raw.githubusercontent.com/takuronkym/bioinfo_python_tutorial/master/data/skillup_2019b/python_block.png\" width=\"400\">\n",
        "\n",
        "The important thing is to unify the type of indentation in the code.\n",
        "\n",
        "If the indentation type is not unified as shown below, an error will occur."
      ]
    },
    {
      "cell_type": "code",
      "metadata": {
        "id": "Hl7W8lakJNDB"
      },
      "source": [
        "# example\n",
        "x = 0\n",
        "if x > 0:\n",
        "    print(\"x is greater than 0.\") # 4-space indent\n",
        "  result = x + 12          # 2-space indent\n",
        "  print(\"The value of x + 12 is {}\".format(result))     # 2-space indent"
      ],
      "execution_count": null,
      "outputs": []
    },
    {
      "cell_type": "markdown",
      "metadata": {
        "id": "-5JeI8foUZxc"
      },
      "source": [
        "In conclusion, remember the following when writing control syntax:\n",
        "\n",
        "* **Don't forget the colon and indent**\n",
        "* **Unify indentation types**\n",
        "\n",
        "*By the way, if you create code in this Google Colaboratory (Jupyter Notebook) environment, the automatic indent function works, so you don't have to enter the indent yourself.*"
      ]
    },
    {
      "cell_type": "markdown",
      "metadata": {
        "id": "UdIoNUi--tuc"
      },
      "source": [
        "### Exercise <font color=\"Crimson\">6-1\n",
        "\n",
        "**Make an `if` statement that print \"`x` is even\" or \"`x` is not even\". Do the same for `y`.**\n",
        "\n",
        "Hint: Use x % 2 == 0 to check whether x is an even number."
      ]
    },
    {
      "cell_type": "code",
      "metadata": {
        "id": "K0q_qJMq_QKL"
      },
      "source": [
        "#Exercise 6-1\n",
        "x = 21\n",
        "y = 12"
      ],
      "execution_count": null,
      "outputs": []
    },
    {
      "cell_type": "markdown",
      "metadata": {
        "id": "vGpO1mCWU3wC"
      },
      "source": [
        "## 6.2 | <font color=\"Crimson\">Comparison Operation</font>\n",
        "\n",
        "In the `if` statement, it is essential to present a conditional expression that is the basis for branching. (`x>0` in the previous formula)\n",
        "The basis of such comparison expressions is the comparison operator.\n",
        "\n",
        "Main comparison operators\n",
        "\n",
        "| Operator | description |\n",
        ":-: |-|\n",
        "| == | Left side is equal to right side\n",
        "|!= | The left side is not equal to the right side\n",
        "| <| The left side is smaller than the right side\n",
        "| <= | The left side is less than or equal to the right side\n",
        "|> | The left side is larger than the right side\n",
        "| >= | The left side is larger than or equal to the right side\n",
        "\n",
        "The equivalent of the equal sign (=) used in mathematics is `==`. Be careful not to confuse it with the \"`=`\" used in assignments."
      ]
    },
    {
      "cell_type": "code",
      "metadata": {
        "id": "iI_DjnmLU16e"
      },
      "source": [
        "print(\"Example 1\")\n",
        "x = 3\n",
        "if x != 5:\n",
        "  print(\"x is not equal to 5\")\n",
        "\n",
        "print(\"Example 2\")\n",
        "x = 3\n",
        "if x <= 3:\n",
        "  print(\"x is less than or equal to 3\")"
      ],
      "execution_count": null,
      "outputs": []
    },
    {
      "cell_type": "markdown",
      "metadata": {
        "id": "Sxdd6P6wVjtR"
      },
      "source": [
        "When the comparison operation is executed, the value True or False is returned. Try running the code below."
      ]
    },
    {
      "cell_type": "code",
      "metadata": {
        "id": "wVm6IdI1VwDl"
      },
      "source": [
        "2 == 4"
      ],
      "execution_count": null,
      "outputs": []
    },
    {
      "cell_type": "markdown",
      "metadata": {
        "id": "3esPQKlbV4d2"
      },
      "source": [
        "The returned value is an instance of a type called bool type."
      ]
    },
    {
      "cell_type": "code",
      "metadata": {
        "id": "t1TECUuPV7pY"
      },
      "source": [
        "print(type(True))"
      ],
      "execution_count": null,
      "outputs": []
    },
    {
      "cell_type": "markdown",
      "metadata": {
        "id": "QLfpNRq9WF-_"
      },
      "source": [
        "Basically, `if` executes by executing the given comparison expression and receiving the obtained instance of bool type.\n",
        "\n",
        "In other words, if a bool type instance (True or False) is directly given to `if` as shown below, the if-statement will be executed without any problem."
      ]
    },
    {
      "cell_type": "code",
      "metadata": {
        "id": "5TWD-aOnWXNQ"
      },
      "source": [
        "if False:\n",
        "  print(\"This is True.\")\n",
        "else:\n",
        "  print (\"This is False.\")"
      ],
      "execution_count": null,
      "outputs": []
    },
    {
      "cell_type": "markdown",
      "metadata": {
        "id": "OYKEkIx3_swA"
      },
      "source": [
        "### Exercise <font color=\"Crimson\">6-2\n",
        "**Write three if statement that compare a number with 0. The output should be something like \"x is greater than 0\", \"x is equal to 0\", or \"x is less than 0\". Try to change the value for x to see if the code still works.**"
      ]
    },
    {
      "cell_type": "code",
      "metadata": {
        "id": "oaRvIrQfBNqy"
      },
      "source": [
        "#Exercise 6-2\n",
        "x = -1\n",
        "\n",
        "if\n",
        "\n",
        "if\n",
        "\n",
        "if"
      ],
      "execution_count": null,
      "outputs": []
    },
    {
      "cell_type": "markdown",
      "metadata": {
        "id": "WKRZhYqBYhRf"
      },
      "source": [
        "## 6.3 | <font color=\"Crimson\">Multiple Conditionals\n",
        "  \n",
        "If there are multiple conditional expressions to be given to `if`, you can use `elif` to create a branch based on multiple conditions.\n",
        "\n",
        "`elif` is described in the form with conditional expression and colon like `if`.\n",
        "\n",
        "```\n",
        "if [condition A]:\n",
        "     [Do this when A is True]\n",
        "elif [condition B]:\n",
        "     [Do this when A is False and B is True]\n",
        "else:\n",
        "     [Do this when both A and B are False]\n",
        "```\n",
        "An arbitrary number of conditional expressions can be handled by adding `elif`.\n",
        "\n",
        "Note that even if the `elif` condition is true, the `if` block processing is always executed if the first conditional expression given with `if` is true.\n",
        "\n",
        "Conditional expressions are evaluated in order from top to bottom, entering the first `True` block, and those that become `False` under all conditions are processed in the `else` block."
      ]
    },
    {
      "cell_type": "code",
      "metadata": {
        "id": "qtSTCWArYhEG"
      },
      "source": [
        "# example\n",
        "print(\"example1\")\n",
        "x = 3\n",
        "if x == 5:\n",
        "  print(\"x is equal to 1\")\n",
        "elif x == 3:\n",
        "  print(\"x is equal to 3\")\n",
        "else:\n",
        "  print(\"x is not equal to 1 and 3\")\n",
        "\n",
        "# example 2\n",
        "print(\"example2\")\n",
        "x = 4\n",
        "if x == 5:\n",
        "  print(\"x is equal to 1\")\n",
        "elif x == 3:\n",
        "  print(\"x is equal to 3\")\n",
        "elif x> 4:\n",
        "  print(\"x is greater than 4\")\n",
        "else:\n",
        "  print(\"x is not equal to 1 and 3 and not greater than 4\")"
      ],
      "execution_count": null,
      "outputs": []
    },
    {
      "cell_type": "markdown",
      "metadata": {
        "id": "60fuATkSZUeZ"
      },
      "source": [
        "### Exercise <font color=\"Crimson\">6-3\n",
        "Similar to the previous example, make a multiple conditionals for an integer `x` so that the outputs are as follows:\n",
        "  \n",
        "\n",
        "*   if x = 0 then \"`x is 0`\"\n",
        "*   if x < 0 then \"`x is negative`\"\n",
        "*   if x > 0 then \"`x is positive`\"\n",
        "  \n",
        "Try multiple values of `x` to check whether your code works for any `x`.\n",
        "            \n",
        "\n"
      ]
    },
    {
      "cell_type": "code",
      "metadata": {
        "id": "IASUQ_ufaC9J"
      },
      "source": [
        "# Ex. 6-3\n",
        "x = 0\n"
      ],
      "execution_count": null,
      "outputs": []
    },
    {
      "cell_type": "markdown",
      "metadata": {
        "id": "1AT0TJG6al-u"
      },
      "source": [
        "## 6.4 | <font color=\"Crimson\">Nested `if` statement\n",
        "\n",
        "It is also possible to create an `if` statement within an `if` statement.\n",
        "```\n",
        "if [condition A]:\n",
        "     [Process when A is True]\n",
        "     if [condition C]:\n",
        "         [Process when A and C are True]\n",
        "     else:\n",
        "         [Process when A is True but C is False]\n",
        "         if [condition D]:\n",
        "             [Process when A is True, C is False, and D is True]\n",
        "elif [condition B]:\n",
        "     [Process when A is False and B is True]\n",
        "else:\n",
        "     [Process when A and B are False]\n",
        "```\n",
        "In doing so, it is necessary to pay attention to the indentation depth (level) in order to clarify which part of the code belongs to which block."
      ]
    },
    {
      "cell_type": "code",
      "metadata": {
        "id": "ITwLeq-vbjXU"
      },
      "source": [
        "# example\n",
        "x = 9\n",
        "if x > 5:\n",
        "  if x == 6:\n",
        "    print(\"x is greater than 5 and equals 6.\")\n",
        "  else:\n",
        "    print(\"x is greater than 5 but not 6.\")\n",
        "else:\n",
        "  print(\"x is not greater than 5.\")"
      ],
      "execution_count": null,
      "outputs": []
    },
    {
      "cell_type": "markdown",
      "metadata": {
        "id": "qgD2LJ2gcB1_"
      },
      "source": [
        "### Exercise <font color=\"Crimson\">6-4\n",
        "Similar to the previous exercise, make a multiple conditionals for an integer `x` so that the outputs are as follows:\n",
        "  \n",
        "\n",
        "*   if x = 0 then \"`x is 0`\"\n",
        "*   if x < 0 and x is even then \"`x is even negative`\". If x < 0 and x is odd then \"`x is odd negative`\"\n",
        "*   if x > 0 and x is even then \"`x is even positive`\". If x > 0 and x is odd then \"`x is odd positive`\"\n",
        "  \n",
        "Try multiple values of `x` to check whether your code works for any `x`.\n",
        "  \n",
        "Hint: Use `x % 2 == 0` to check whether `x` is an even number."
      ]
    },
    {
      "cell_type": "code",
      "metadata": {
        "id": "-PHKZXvV95MG"
      },
      "source": [
        "#Exercise 6-4"
      ],
      "execution_count": null,
      "outputs": []
    },
    {
      "cell_type": "markdown",
      "metadata": {
        "id": "llDLd4-fcrxz"
      },
      "source": [
        "## 6.5 | <font color=\"Crimson\">Statement `and` & `or`\n",
        "\n",
        "It is possible to make more complex conditions by connecting multiple conditional expressions with and and or.\n",
        "\n",
        "| Conditional Expression | Description |\n",
        "|:-: |-|\n",
        "| Conditional expression A **and** conditional expression B | conditional expressions A and B **both return True only `if` True**\n",
        "Conditional expression A **or** Conditional expression B | Returns True only if either conditional expression A or B **is True**\n",
        "\n",
        "`And` and `or` are operators that take two conditional expressions, evaluate the combination of the operation results (bool value: True or False), and return one of the bool values.\n",
        "\n",
        "These are called bool operators.\n",
        "```\n",
        "if [condition A] and [condition B]:\n",
        "     [Process when A is True and B is True]\n",
        "elif [condition A] or [condition B]:\n",
        "     [Process when A is True or B is True]\n",
        "else:\n",
        "     [Processing when A and B are False]\n",
        "```"
      ]
    },
    {
      "cell_type": "code",
      "metadata": {
        "id": "rlVm2peQdmEj"
      },
      "source": [
        "# example\n",
        "print(\"example 1\")\n",
        "x = 100\n",
        "if x > 30 and x < 200:\n",
        "  print(\"x is greater than 30 and less than 200\")\n",
        "\n",
        "# example 2\n",
        "print(\"example 2\")\n",
        "x = 100\n",
        "if x> 30 or x == 1:\n",
        "  print(\"x is greater than 30 or equal to 1\")"
      ],
      "execution_count": null,
      "outputs": []
    },
    {
      "cell_type": "markdown",
      "metadata": {
        "id": "bso40xf8drbh"
      },
      "source": [
        "\n",
        "There is also a `not` bool operator in addition to `and` and `or`.\n",
        "\n",
        "`not` returns False if the following conditional expression is True, and True if it is False."
      ]
    },
    {
      "cell_type": "code",
      "metadata": {
        "id": "QgN9VgPceI_4"
      },
      "source": [
        "# example\n",
        "print(\"example 1\")\n",
        "x = 100\n",
        "if not x == 30:\n",
        "  print(\"x is not equal to 30\")\n",
        "\n",
        "# example 2\n",
        "print(\"example 2\")\n",
        "x = 100\n",
        "if not x != 100:\n",
        "  print(\"x is equal to 100\")"
      ],
      "execution_count": null,
      "outputs": []
    },
    {
      "cell_type": "markdown",
      "metadata": {
        "id": "lVTSxGHvdlU6"
      },
      "source": [
        "Normal operators had priority. For example, if `+` (addition) and `*` (integration) are present at the same time, `*` (integration) has priority.\n",
        "\n",
        "The bool operator also has priority. If multiple bool operators are used in a conditional expression, they are evaluated in the order **not > and > or**.\n",
        "\n",
        "```\n",
        "[Expression resulting True] or [Expression resulting True] and [Expression resulting False]\n",
        "```\n",
        "\n",
        "In the above example, if the expressions are evaluated sequentially from the left, the overall evaluation result is False.\n",
        "\n",
        "However, since `and` is processed before `or`, the overall evaluation result is True."
      ]
    },
    {
      "cell_type": "code",
      "metadata": {
        "id": "oBR8xX7WhOgy"
      },
      "source": [
        "# ([True] or [True]) and [False]\n",
        "print((1> 0 or 2 == 2) and 3 <= 0)"
      ],
      "execution_count": null,
      "outputs": []
    },
    {
      "cell_type": "markdown",
      "metadata": {
        "id": "oZEQI1HuCfLS"
      },
      "source": [
        "### Exercise <font color=\"Crimson\">6-5\n",
        "\n",
        "Using `and` and `or`, write a program that tells a student grade with the following requirements:\n",
        "```\n",
        " grade A : if `score >= 85` and test is submitted\n",
        " grade B : if `70 <= score < 85` and test is submitted\n",
        " grade C : if `55 <= score < 70` and test is submitted\n",
        " grade D : if `score<55` or test is not submitted\n",
        "```"
      ]
    },
    {
      "cell_type": "code",
      "metadata": {
        "id": "E5TEZyr6Cczg"
      },
      "source": [
        "# Ex. 6-5\n",
        "score =\n",
        "test_submitted = True\n",
        "if ...\n",
        "\n"
      ],
      "execution_count": null,
      "outputs": []
    },
    {
      "cell_type": "markdown",
      "metadata": {
        "id": "GrvdL_OEhktI"
      },
      "source": [
        "# <font color=\"Crimson\">7</font>&nbsp;<font color=\"silver\">|</font> &nbsp;Iterative Processing - `while` and `for`"
      ]
    },
    {
      "cell_type": "markdown",
      "metadata": {
        "id": "4iO7gtiSh2nf"
      },
      "source": [
        "An indispensable part of programming is the process of repeating the same work many times.\n",
        "\n",
        "In python, it is possible to perform repeated processing with a control syntax using `while` or `for`."
      ]
    },
    {
      "cell_type": "markdown",
      "metadata": {
        "id": "TEMz6-d5h8e-"
      },
      "source": [
        "## 7.1 | <font color=\"Crimson\">Iterative - `while`\n",
        "`while` repeats an arbitrary process written in a block while a given conditional expression is true.\n",
        "```\n",
        "while [condition]:\n",
        "     [Repeat while True]\n",
        "```\n",
        "For example, a `while` statement that “prints i only while the value assigned to the variable i is less than 10” works as follows."
      ]
    },
    {
      "cell_type": "code",
      "metadata": {
        "id": "bSx3FwaCiXNF"
      },
      "source": [
        "i = 0\n",
        "while i < 10:\n",
        "  print(i)\n",
        "  i += 1"
      ],
      "execution_count": null,
      "outputs": []
    },
    {
      "cell_type": "markdown",
      "metadata": {
        "id": "CQsYtLkQiWHm"
      },
      "source": [
        "In the above code, the integer 0 is first assigned to `i` as input to the while statement.\n",
        "\n",
        "Last block\n",
        "```\n",
        "i += 1\n",
        "```\n",
        "is doing the work of \"reassigning by adding 1 to the value currently assigned to i\". Works the same as `i = i + 1`.\n",
        "\n",
        "`i` with integer 1 added is evaluated by the conditional expression given to `while` again, and then it goes into the `while` block.\n",
        "\n",
        "Eventually, 10 is assigned to i, but in this case `i<10` does not hold, so the process ends without entering the block."
      ]
    },
    {
      "cell_type": "markdown",
      "metadata": {
        "id": "6uGHAu6Qi2th"
      },
      "source": [
        "**Watch out for infinite loops!**\n",
        "\n",
        "In the above example, the value of `i` changes each time the block is processed.\n",
        "\n",
        "However, if the code does not change the value of `i` in the block, the conditional expression given to while will continue to be true, so the block processing will continue indefinitely.\n",
        "\n",
        "This is one of the most common mistakes for beginners of programming, so when using the while statement, make sure that there is no possibility of an infinite loop before executing it."
      ]
    },
    {
      "cell_type": "markdown",
      "metadata": {
        "id": "_UGymRfFjJV7"
      },
      "source": [
        "In the `while` statement, like the `if` statement, you can set the process to be executed when the condition given using else becomes False.\n",
        "\n",
        "```\n",
        "while [condition]:\n",
        "     [Repeat while True]\n",
        "else:\n",
        "     [Process when condition becomes False]\n",
        "```\n",
        "In this case, while the conditional expression is true, the upper block is repeated, and when it becomes false, the lower block is executed and then the process ends."
      ]
    },
    {
      "cell_type": "code",
      "metadata": {
        "id": "CYUBeFYJi2IN"
      },
      "source": [
        "i = 100\n",
        "while i > 80:\n",
        "  print(\"i ({}) is greater than 80.\".format(i))\n",
        "  i -= 1\n",
        "else:\n",
        "  print(\"i ({}) is equal to 80.\".format(i))"
      ],
      "execution_count": null,
      "outputs": []
    },
    {
      "cell_type": "markdown",
      "metadata": {
        "id": "TOpkNzlAjjSg"
      },
      "source": [
        "The `-=` used in the code above is the opposite of `+=` and assigns the value obtained by subtracting the value on the right side from the variable on the left side."
      ]
    },
    {
      "cell_type": "markdown",
      "metadata": {
        "id": "6mdwq0h4jsPk"
      },
      "source": [
        "### Exercise <font color=\"Crimson\">7-1\n",
        "**Write code that outputs \"Hello, world.\" 10 times using the while statement.**"
      ]
    },
    {
      "cell_type": "code",
      "metadata": {
        "id": "zGe0VoUuh1ly"
      },
      "source": [
        "#Exercise 7-1"
      ],
      "execution_count": null,
      "outputs": []
    },
    {
      "cell_type": "markdown",
      "metadata": {
        "id": "U3S3TjaSkF3C"
      },
      "source": [
        "### Exercise <font color=\"Crimson\">7-2\n",
        "**Write code that outputs even numbers from 20 to 39 by combining while and if statements.**\n",
        "```\n",
        "Output result:\n",
        "20\n",
        "22\n",
        "24\n",
        "etc.\n",
        "```\n",
        "\n",
        "**Hint**: You can check whether the number is even by dividing by 2. Example of conditional expression: `[Value to check]% == 0`"
      ]
    },
    {
      "cell_type": "code",
      "metadata": {
        "id": "9MeDYfmI-S1e"
      },
      "source": [
        "#Exercise 7-2"
      ],
      "execution_count": null,
      "outputs": []
    },
    {
      "cell_type": "markdown",
      "metadata": {
        "id": "oRL-wykfkgqg"
      },
      "source": [
        "## 7.2 | <font color=\"Crimson\">Iterative - `for`\n",
        "The number of times the `while` statement is repeated varies depending on the condition, but the `for` statement can repeat the process for the specified amount.\n",
        "The basic for statement structure is as follows.\n",
        "```\n",
        "for [variable] in [multiple values for variable]:\n",
        "     [Process to repeat]\n",
        "```\n",
        "For example, the code that puts the numbers from 1 to 5 into the variable `x` and outputs it can be written as follows."
      ]
    },
    {
      "cell_type": "code",
      "metadata": {
        "id": "qkIOTicVkfam"
      },
      "source": [
        "for x in [1, 2, 3, 4, 5]:\n",
        "  print(\"x is {}\".format(x))"
      ],
      "execution_count": null,
      "outputs": []
    },
    {
      "cell_type": "markdown",
      "metadata": {
        "id": "m15vQTHyk8Q9"
      },
      "source": [
        "In this way, \"multiple values to put in a variable\"\n",
        "```\n",
        "[value1, value2, value3, value4, value5]\n",
        "```\n",
        "It can be expressed by the rule of enclosing it with \"\\[\\]\" (square brackets, square brackets) and separating each value with, (comma).\n",
        "\n",
        "This data format is called a **list**, but you will learn more about lists later.\n",
        "\n",
        "Next, try to output the above code with numbers 20 to 40 in `x`."
      ]
    },
    {
      "cell_type": "code",
      "metadata": {
        "id": "99HyN1ZelNmr"
      },
      "source": [
        "for x in [20, 21, 22, 23, 24, 25, 26, 27, 28, 29, 30, 31, 32, 33, 34, 35, 36, 37, 38, 39, 40]:\n",
        "  print(\"x is {}\".format(x))"
      ],
      "execution_count": null,
      "outputs": []
    },
    {
      "cell_type": "markdown",
      "metadata": {
        "id": "OdRnne2mlTW8"
      },
      "source": [
        "It can be written as above, but writing repeated values in the code one by one is cumbersome.\n",
        "\n",
        "The `range()` function is useful if the value you want to repeatedly put into `x` is a continuous integer or an arithmetic sequence.\n",
        "\n",
        "`range()` is a function used to indicate a range of integers. The basic usage is as follows.\n",
        "```\n",
        "range([Start of range], [End of range], [Amount to increase])\n",
        "```\n",
        "For example, `range(0,10,1)` indicates a range of \"less than 10 starting from 0 and increasing by 1\", and is strictly different, but `[0, 1, 2, 3, 4, 5 , 6, 7, 8, 9] ` will show the same range. Note that number at the “end of the range” is **not included in the range**.\n",
        "\n",
        "The following code is a code that uses the `range()` function to rewrite the code that puts the numbers 20 to 40 above in `x` and outputs them."
      ]
    },
    {
      "cell_type": "code",
      "metadata": {
        "id": "HagvpqjPl_ta"
      },
      "source": [
        "for x in range(20,41,1):\n",
        "  print(\"x is {}\".format(x))"
      ],
      "execution_count": null,
      "outputs": []
    },
    {
      "cell_type": "markdown",
      "metadata": {
        "id": "9yqK2c_UnJQe"
      },
      "source": [
        "If you specify `range (20,40,1)`, 40 is not included in the range, so use `range(20,41,1)`.\n",
        "\n",
        "In addition, if the \"number at the beginning of the range\" and the \"increase amount\" corresponding to `range()` are 0 and 1, respectively, these numbers can be omitted. (However, it is not possible to omit the number at the beginning of the range and give it an increasing amount)\n",
        "\n",
        "Giving two values in `range()` such as `range(2,5)` indicates an integer range of \"less than 5 starting from 2 and increasing by 1\"\n",
        "\n",
        "If only one value is given as in `range(4)`, an integer range of \"less than 4 starting from 0 and increasing by 1\" is shown. This is useful when you want to perform exactly the same process `n` times.\n",
        "\n",
        "For example, if you want to output \"Hello, world.\" 10 times, you can write like this."
      ]
    },
    {
      "cell_type": "code",
      "metadata": {
        "id": "TP3NmWwKnvsA"
      },
      "source": [
        "for x in range(10):\n",
        "  print(\"Hello, world.\")"
      ],
      "execution_count": null,
      "outputs": []
    },
    {
      "cell_type": "markdown",
      "metadata": {
        "id": "VtxDbl9_n8uW"
      },
      "source": [
        "You can also use code such as `for [variable] in range()`.\n",
        "\n",
        "Code that calculates the sum of numbers from 20 to 50 can be written as follows"
      ]
    },
    {
      "cell_type": "code",
      "metadata": {
        "id": "g2RXBv-_oEPn"
      },
      "source": [
        "result = 0\n",
        "for i in range(20, 51):\n",
        "  result += i\n",
        "print(result)"
      ],
      "execution_count": null,
      "outputs": []
    },
    {
      "cell_type": "markdown",
      "metadata": {
        "id": "uuSYdSRZoMIV"
      },
      "source": [
        "Note: Although the variable is defined with `result = 0` in the first line, if you forget this, the variable `result` is not defined at the time of `result + = i`, which results in an error."
      ]
    },
    {
      "cell_type": "markdown",
      "metadata": {
        "id": "CwsfiEI_oVLd"
      },
      "source": [
        "### Exercise <font color=\"Crimson\">7-3\n",
        "**Write a code that outputs an even number between 0 and 20 using the `for` statement.** Range includes 20"
      ]
    },
    {
      "cell_type": "code",
      "metadata": {
        "id": "KeHUpSDporlQ"
      },
      "source": [
        "#Exercise 7-3"
      ],
      "execution_count": null,
      "outputs": []
    },
    {
      "cell_type": "markdown",
      "metadata": {
        "id": "uqWpGCtWw26X"
      },
      "source": [
        "### Exercise <font color=\"Crimson\">7-4\n",
        "**Write a code to list numbers that:**\n",
        "\n",
        "*   Starts at `5`\n",
        "*   Has a difference of `3` between each item\n",
        "* Ends before 15\n",
        "\n"
      ]
    },
    {
      "cell_type": "code",
      "metadata": {
        "id": "9kevdU1hwz94"
      },
      "source": [
        "#Exercise 7-4"
      ],
      "execution_count": null,
      "outputs": []
    },
    {
      "cell_type": "markdown",
      "metadata": {
        "id": "zprRiYb-pBpZ"
      },
      "source": [
        "### Exercise <font color=\"Crimson\">7-5\n",
        "Let's write some code to reproduce the Fizz Buzz game.\n",
        "```\n",
        "Fizz Buzz is\n",
        "a language play during long-distance driving and drinking parties in English-speaking countries.\n",
        "The player sits in a circle. The first player says “1”. The next player speaks the next number of the previous player. However, \"Fizz\" must be said instead of a number if it is divisible by 3, \"Buzz\" if it is divisible by 5, and \"Fizz Buzz\" if it is divisible by both.\n",
        "The game proceeds as follows:\n",
        "1, 2, Fizz, 4, Buzz, Fizz, 7, 8, Fizz, Buzz, 11, Fizz, 13, 14, FizzBuzz, 16, 17, Fizz, 19, Buzz, Fizz, 22, 23, Fizz, Buzz, 26, Fizz, 28, 29, FizzBuzz, 31, 32, Fizz, 34, Buzz, Fizz, ...\n",
        "```\n",
        "Source: [https://en.wikipedia.org/wiki/Fizz_Buzz](https://en.wikipedia.org/wiki/Fizz_Buzz)\n",
        "\n",
        "**Write code to do Fizz Buzz with numbers from 1 to 100.** The range includes 100.\n",
        "\n",
        "Execution example:\n",
        "```\n",
        "1\n",
        "2\n",
        "Fizz\n",
        "4\n",
        "Buzz\n",
        "Fizz\n",
        "7\n",
        "8\n",
        "Fizz\n",
        "Buzz\n",
        "11\n",
        "Fizz\n",
        "13\n",
        "14\n",
        "Fizz Buzz\n",
        ".\n",
        ".\n",
        ".\n",
        ".\n",
        "\n",
        "```"
      ]
    },
    {
      "cell_type": "code",
      "metadata": {
        "id": "GtznN2BHpepl"
      },
      "source": [
        "# Ex. 7-5\n"
      ],
      "execution_count": null,
      "outputs": []
    },
    {
      "cell_type": "markdown",
      "metadata": {
        "id": "IMCrI5V2plkt"
      },
      "source": [
        "# <font color=\"Crimson\">8</font>&nbsp;<font color=\"silver\">|</font> &nbsp;List"
      ]
    },
    {
      "cell_type": "markdown",
      "metadata": {
        "id": "g2fAXRxFp1hY"
      },
      "source": [
        "Python has a mechanism that can manage multiple values and variables assigned values.\n",
        "\n",
        "By using these mechanisms, you can write code very efficiently.\n",
        "\n",
        "In other programming languages, you might know lists as something called called arrays ."
      ]
    },
    {
      "cell_type": "markdown",
      "metadata": {
        "id": "Sp_WVBrDqCI2"
      },
      "source": [
        "## 8.1 | <font color=\"Crimson\">Writing List\n",
        "A list can be defined by enclosing multiple values in \\[ \\] (square brackets, square brackets) and separating each value with, (comma).\n",
        "\n",
        "You can also assign a list to a variable just like any other value."
      ]
    },
    {
      "cell_type": "code",
      "metadata": {
        "id": "IM0xdyf0qQd8"
      },
      "source": [
        "my_list = [1,2,3,4]"
      ],
      "execution_count": null,
      "outputs": []
    },
    {
      "cell_type": "markdown",
      "metadata": {
        "id": "qu7HceeXqYpH"
      },
      "source": [
        "The above code creates a list containing four `int` values `1, 2, 3, 4` and assigns it to the variable `my_list`.\n",
        "\n",
        "The values contained in the list are called **items**.\n",
        "\n",
        "The order and number of elements, and the type of instance to be elements are arbitrary.\n",
        "\n",
        "For example, you can create a list with a mixture of `int`, `float`, and `str` types as shown below."
      ]
    },
    {
      "cell_type": "code",
      "metadata": {
        "id": "TFPQCd1PqogJ"
      },
      "source": [
        "my_list = [\"one\", 2, \"three\", 4.49, 5]"
      ],
      "execution_count": null,
      "outputs": []
    },
    {
      "cell_type": "markdown",
      "metadata": {
        "id": "HZcqqKbRu-U_"
      },
      "source": [
        "### Exercise <font color=\"Crimson\">8-1\n",
        "**Create a new list called `my_second_list` that contains.**\n",
        "\n",
        "\n",
        "*   The string `'six'`\n",
        "*   The number `7`\n",
        "\n"
      ]
    },
    {
      "cell_type": "code",
      "metadata": {
        "id": "OVY1WwDVvfL0"
      },
      "source": [
        "#Exercise 8-1"
      ],
      "execution_count": null,
      "outputs": []
    },
    {
      "cell_type": "markdown",
      "metadata": {
        "id": "cPfb7cNVvxQR"
      },
      "source": [
        "## 8.2 | <font color=\"Crimson\">Value in the List\n",
        "  We have seen that the items in a list can be numbers or strings. They can also be other lists!\n",
        "\n",
        "numbers = [['one', 1], ['two', 2], ['three', 3], ['four', 4]]"
      ]
    },
    {
      "cell_type": "markdown",
      "metadata": {
        "id": "CMKXuK5aqvbM"
      },
      "source": [
        "Values in the list can be retrieved by specifying their position in the list.\n",
        "\n",
        "The order in the list uses the **index** mentioned above. The index of the position of the first element in the list is 0.\n",
        "```\n",
        "my_list [specific element index]\n",
        "```"
      ]
    },
    {
      "cell_type": "code",
      "metadata": {
        "id": "fr0io3yAq3wG"
      },
      "source": [
        "my_list = [\"one\", 2, \"three\", 4.49, 5]\n",
        "print(my_list[2])"
      ],
      "execution_count": null,
      "outputs": []
    },
    {
      "cell_type": "markdown",
      "metadata": {
        "id": "AdPi-WSKrDqq"
      },
      "source": [
        "As in the code above, specifying the index `2` will retrieve the third element of the list.\n",
        "\n",
        "It is also possible to create a new list of specified parts by describing the start index and end index as shown below.\n",
        "```\n",
        "my_list [start index: end index]\n",
        "```\n",
        "Note that the element at the end index position is not included, as was the case with the `range()` function."
      ]
    },
    {
      "cell_type": "code",
      "metadata": {
        "id": "Mlrct0PjrOCs"
      },
      "source": [
        "my_list = [\"one\", 2, \"three\", 4.49, 5]\n",
        "new_list = my_list[1:4]\n",
        "print(new_list)"
      ],
      "execution_count": null,
      "outputs": []
    },
    {
      "cell_type": "markdown",
      "metadata": {
        "id": "jXjqq_ZHrTD3"
      },
      "source": [
        "In addition, if a negative integer is given as an index, it will be treated as a reverse index.\n",
        "\n",
        "Please check the code below. The index of the last element in the list is -1."
      ]
    },
    {
      "cell_type": "code",
      "metadata": {
        "id": "wvsNaVrFrif8"
      },
      "source": [
        "my_list = [\"one\", 2, \"three\", 4.49, 5]\n",
        "print(\"index -1 : \", end=\"\") # print()にend=\"\"を与えると、改行するの避けることができます。\n",
        "print(my_list[-1])\n",
        "\n",
        "print(\"index -4 : \", end=\"\")\n",
        "print(my_list[-4])"
      ],
      "execution_count": null,
      "outputs": []
    },
    {
      "cell_type": "markdown",
      "metadata": {
        "id": "-F86p0sYydaL"
      },
      "source": [
        "### Exercise <font color=\"Crimson\">8-2\n",
        "**Try to print elements of index `5` and index `7` of the following `my_list`.**"
      ]
    },
    {
      "cell_type": "code",
      "metadata": {
        "id": "OQLE0d88yvT2"
      },
      "source": [
        "#Exercise 8-2\n",
        "my_list = list(range(2,30,2))\n",
        "print(my_list)\n",
        "print()\n",
        "print()"
      ],
      "execution_count": null,
      "outputs": []
    },
    {
      "cell_type": "markdown",
      "metadata": {
        "id": "bPHg7W26zFLb"
      },
      "source": [
        "### Exercise <font color=\"Crimson\">8-3\n",
        "**Print the third element up to the last element of the following `my_list` list**"
      ]
    },
    {
      "cell_type": "code",
      "metadata": {
        "id": "hQUSJBq2zDzo",
        "colab": {
          "base_uri": "https://localhost:8080/"
        },
        "outputId": "51b5f3f4-0bfa-414a-ed3d-67dc1a6fdfb9"
      },
      "source": [
        "#Exercise 8-3\n",
        "my_list = [\"Ken\", \"Ryu\", \"Honda\", \"Ibuki\", \"Sakura\"]\n",
        "print(my_list)\n",
        "print(my_list[2:])"
      ],
      "execution_count": null,
      "outputs": [
        {
          "output_type": "stream",
          "text": [
            "['Ken', 'Ryu', 'Honda', 'Ibuki', 'Sakura']\n",
            "['Honda', 'Ibuki', 'Sakura']\n"
          ],
          "name": "stdout"
        }
      ]
    },
    {
      "cell_type": "markdown",
      "metadata": {
        "id": "-7d70uLssE23"
      },
      "source": [
        "## 8.3 | <font color=\"Crimson\">Combining `for` and list\n",
        "\n",
        "As mentioned in the previous `for` statement section, the list can be combined with the `for` statement to perform the same processing on all elements in order.\n"
      ]
    },
    {
      "cell_type": "code",
      "metadata": {
        "id": "ikLOZLOMsCec"
      },
      "source": [
        "my_list = [\"one\", 2, \"three\", 4.49, 5]\n",
        "for i in my_list:\n",
        "  print(i)"
      ],
      "execution_count": null,
      "outputs": []
    },
    {
      "cell_type": "markdown",
      "metadata": {
        "id": "NLOsDx0asTFY"
      },
      "source": [
        "You can also use the elements in the target list by giving the `for` statement a list of integers corresponding to the index."
      ]
    },
    {
      "cell_type": "code",
      "metadata": {
        "id": "wsYbak5qsX_p"
      },
      "source": [
        "my_list = [\"one\", 2, \"three\", 4.49, 5]\n",
        "index_list = [3, 0, 4, 2, 1, 0]\n",
        "for i in index_list:\n",
        "  my_item = my_list[i]\n",
        "  print(\"An item at index {0} of my_list is {1}.\".format(i,my_item))"
      ],
      "execution_count": null,
      "outputs": []
    },
    {
      "cell_type": "markdown",
      "metadata": {
        "id": "abvvJGtYxf1G"
      },
      "source": [
        "### Exercise <font color=\"Crimson\">8-4\n",
        "**Using negative index and `for` statement, print the following `my_list` from the last element.**"
      ]
    },
    {
      "cell_type": "code",
      "metadata": {
        "id": "tAMaUeIRxyCR"
      },
      "source": [
        "# Ex. 8-4\n",
        "my_list = [\"one\", 2, \"three\", 4.49, 5]\n",
        "\n",
        "for ... :\n",
        "  print()"
      ],
      "execution_count": null,
      "outputs": []
    },
    {
      "cell_type": "markdown",
      "metadata": {
        "id": "SdtRCUNEreyz"
      },
      "source": [
        "## 8.4 | <font color=\"Crimson\">Functions that can handle lists</font>\n",
        "\n",
        "List method\n",
        "It is a convenient list for storing multiple values, but if you use a function provided for list type instances (in this case, it is called a method), you can use the list more conveniently.\n",
        "\n",
        "This section refers to the following website: <br>\n",
        "[https://docs.python.org/3.5/tutorial/datastructures.html#more-on-lists](https://docs.python.org/3.5/tutorial/datastructures.html#more-on-lists)\n",
        "\n",
        "[https://docs.python.org/jp/3.5/tutorial/datastructures.html#more-on-lists](https://docs.python.org/jp/3.5/tutorial/datastructures.html#more-on-lists) (Japanese)\n",
        "\n",
        "| Function | Description |\n",
        "| --- | --- |\n",
        "| list **. append (x)** | Adds one element to the end of the list. |\n",
        "| list **. extend (iterable)** | Extends the list by adding all iterable elements to the target list. |\n",
        "| list **. insert (i, x)** | Inserts an element at the specified position. The first argument is the list index, which is inserted immediately before the element with that index. <br> So a.insert (0, x) inserts at the top of the list.\n",
        "list **. remove (x)** | Removes the first element with value x in the list. If there is no corresponding item, an error occurs.\n",
        "| list **. pop ([i])** | Removes the element at the specified position in the list from the list and returns that element. If no index is specified, <br> a.pop () removes and returns the last element in the list. Again, the element is deleted.\n",
        "| list **. clear ()** | Deletes all elements in the list.\n",
        "list **. index (x [, start [, end]])** | Returns the position of the first element with value x in the list as a zero-based index. If there is no such element, ValueError is raised. <br> The optional arguments start and end are interpreted as slice notation and can specify the search range of the list. The returned subscript is not relative to the <br> start argument, but from the beginning of the entire list.\n",
        "| list **. count (x)** | Returns the number of occurrences of x in the list.\n",
        "| list **. sort (key = None, reverse = False)** | Sorts the items in the list using an in-place operation (in place, which replaces the original data with the operation result). Arguments can be used to customize the sorting method. See the description of sorted ().\n",
        "| list **. reverse ()** | Reverses the list elements using an in-place operation.\n",
        "list **. copy ()** | Returns a shallow copy of the list. |\n",
        "\n",
        "\n",
        "Let's take a look at some practical examples of some methods."
      ]
    },
    {
      "cell_type": "code",
      "metadata": {
        "id": "z6WueV5Hs8Lh"
      },
      "source": [
        "fruits = ['orange', 'apple', 'pear', 'banana', 'kiwi', 'apple', 'banana']\n",
        "print( fruits.count('apple') )"
      ],
      "execution_count": null,
      "outputs": []
    },
    {
      "cell_type": "code",
      "metadata": {
        "id": "LlhLBr_Fs9Wu"
      },
      "source": [
        "print( fruits.count('tangerine') )"
      ],
      "execution_count": null,
      "outputs": []
    },
    {
      "cell_type": "code",
      "metadata": {
        "id": "lvHt0R0HtAU-"
      },
      "source": [
        "print( fruits.index('banana') )"
      ],
      "execution_count": null,
      "outputs": []
    },
    {
      "cell_type": "code",
      "metadata": {
        "id": "p35V4imTtCII"
      },
      "source": [
        "print( fruits.index('banana', 4) )  # Find next banana starting a position 4"
      ],
      "execution_count": null,
      "outputs": []
    },
    {
      "cell_type": "code",
      "metadata": {
        "id": "NxU93kwVtEZB"
      },
      "source": [
        "fruits.reverse()\n",
        "print( fruits )"
      ],
      "execution_count": null,
      "outputs": []
    },
    {
      "cell_type": "code",
      "metadata": {
        "id": "vDouiHUjtG6W"
      },
      "source": [
        "fruits.sort()\n",
        "print( fruits )"
      ],
      "execution_count": null,
      "outputs": []
    },
    {
      "cell_type": "code",
      "metadata": {
        "id": "RvnIJdgKtI-E"
      },
      "source": [
        "fruits.pop()\n",
        "print( fruits )"
      ],
      "execution_count": null,
      "outputs": []
    },
    {
      "cell_type": "code",
      "metadata": {
        "id": "m7V9OAiRtLC5"
      },
      "source": [
        "print( fruits.pop() )"
      ],
      "execution_count": null,
      "outputs": []
    },
    {
      "cell_type": "code",
      "metadata": {
        "id": "1azoEZRntcTv"
      },
      "source": [
        "print( fruits )"
      ],
      "execution_count": null,
      "outputs": []
    },
    {
      "cell_type": "markdown",
      "metadata": {
        "id": "P8XS1FrkF8fq"
      },
      "source": [
        "### Exercise <font color=\"Crimson\">8-5\n",
        "**Using `.append()`, add 'peach' and 'plum' to the list of fruits and print the new list.**\n"
      ]
    },
    {
      "cell_type": "code",
      "metadata": {
        "id": "tCml9aLEGUsg"
      },
      "source": [
        "# Ex. 8-5\n",
        "fruits = ['orange', 'apple', 'pear', 'banana', 'kiwi', 'apple', 'banana']\n",
        "# your code\n",
        "print()"
      ],
      "execution_count": null,
      "outputs": []
    },
    {
      "cell_type": "markdown",
      "metadata": {
        "id": "jc42RYtDGcMU"
      },
      "source": [
        "### Exercise <font color=\"Crimson\">8-6\n",
        "Using `.count()`, print the number of '`a`' in the my_list."
      ]
    },
    {
      "cell_type": "code",
      "metadata": {
        "id": "EviuMqlYGte6"
      },
      "source": [
        "# Ex. 8-6\n",
        "my_list = ['a', 'b', 'b', 'a', 'a', 'b', 'a', 'b', 'a', 'a', 'a', 'b']"
      ],
      "execution_count": null,
      "outputs": []
    },
    {
      "cell_type": "markdown",
      "metadata": {
        "id": "E5MbFDMMth8D"
      },
      "source": [
        "**Built-in functions for lists**"
      ]
    },
    {
      "cell_type": "markdown",
      "metadata": {
        "id": "vjinTDahtq3P"
      },
      "source": [
        "There are also some very useful functions that can also be used with lists.\n",
        "\n",
        "| Function | Description |\n",
        "| --- | --- |\n",
        "| len (list) | Returns the length (number of elements) of the object. Can also be used for strings, ranges, etc. |\n",
        "sorted (list) | Returns a new list with sorted elements."
      ]
    },
    {
      "cell_type": "code",
      "metadata": {
        "id": "eAG-CJrOt7Y_"
      },
      "source": [
        "fruits = ['orange', 'apple', 'pear', 'banana', 'kiwi', 'apple', 'banana']\n",
        "print( len(fruits) )"
      ],
      "execution_count": null,
      "outputs": []
    },
    {
      "cell_type": "code",
      "metadata": {
        "id": "sQOvKkSIt-Wl"
      },
      "source": [
        "fruits = ['orange', 'apple', 'pear', 'banana', 'kiwi', 'apple', 'banana']\n",
        "print( sorted(fruits) )"
      ],
      "execution_count": null,
      "outputs": []
    },
    {
      "cell_type": "markdown",
      "metadata": {
        "id": "-TZVeQiJHBSj"
      },
      "source": [
        "### Exercise <font color=\"Crimson\">8-7\n",
        "**Using `len()`, `sorted()` and index, complete the code so it has the following output:**\n",
        "```\n",
        "Number of students: 5\n",
        "Name of first student (alphabetically): Aaron\n",
        "Name of last student (alphabetically): Erin\n",
        "```\n",
        "**Try to add more students and see if the code still works.**\n"
      ]
    },
    {
      "cell_type": "code",
      "metadata": {
        "id": "kEL-P1-HH01p"
      },
      "source": [
        "# Ex. 8-7\n",
        "students = ['Erin', 'Aaron', 'Aereen', 'Arene', 'Erene']\n",
        "no_of_student = ...\n",
        "print()\n",
        "print()\n",
        "print()"
      ],
      "execution_count": null,
      "outputs": []
    },
    {
      "cell_type": "markdown",
      "metadata": {
        "id": "TMSgZgAAs7ii"
      },
      "source": [
        "**Tips: Difference between `sorted (list)` and `list.sort ()`**\n",
        "\n",
        "Both the list-only function (method) `list.sort()` and the function `sorted (list)` have the ability to sort the elements in the list in order. However, please note that there is a big difference in how it works.\n",
        "\n",
        "`sorted(list)` **returns** a sorted list of elements, and the list used for input **does not change**.\n",
        "\n",
        "On the other hand, `list.sort()` sorts the **list itself used for input**. **There is no return value.**\n",
        "\n",
        "Pay attention to this difference in characteristics and use the one that is appropriate for the situation."
      ]
    },
    {
      "cell_type": "code",
      "metadata": {
        "id": "l43gMMtjucPA"
      },
      "source": [
        "fruits = ['orange', 'apple', 'pear', 'banana', 'kiwi', 'apple', 'banana']\n",
        "print( sorted(fruits) )"
      ],
      "execution_count": null,
      "outputs": []
    },
    {
      "cell_type": "code",
      "metadata": {
        "id": "IsL_Wj7iud9W"
      },
      "source": [
        "print( fruits )"
      ],
      "execution_count": null,
      "outputs": []
    },
    {
      "cell_type": "code",
      "metadata": {
        "id": "T5584b1KufvL"
      },
      "source": [
        "fruits = ['orange', 'apple', 'pear', 'banana', 'kiwi', 'apple', 'banana']\n",
        "print( fruits.sort() )"
      ],
      "execution_count": null,
      "outputs": []
    },
    {
      "cell_type": "code",
      "metadata": {
        "id": "GbLEZ1q5uhiT"
      },
      "source": [
        "print( fruits )"
      ],
      "execution_count": null,
      "outputs": []
    },
    {
      "cell_type": "markdown",
      "metadata": {
        "id": "FBth6yNsiZ0v"
      },
      "source": [
        "# <font color=\"Crimson\">9</font>&nbsp;<font color=\"silver\">|</font> &nbsp;Dictionary\n",
        "Another typical mechanism for storing values and variables in python is a data type called a dictionary.\n",
        "\n",
        "The list arranges multiple values in order, and when using values, the position of the value is specified by an index. On the other hand, a dictionary is a mechanism in which each value is set with another value called a key instead of having a sort order, and the associated value can be called by using that key."
      ]
    },
    {
      "cell_type": "markdown",
      "metadata": {
        "id": "Qk4OZGvAiol8"
      },
      "source": [
        "## 9.1 | <font color=\"Crimson\"> How to make a dictionary\n",
        "In the list, multiple values are enclosed in \\{\\} (braces, both brace and curly bracket), and the key value and the value to be associated with it are described. Separate keys and values with a `:` colon, and if there are multiple key / value pairs, separate each pair with a `,` comma.\n",
        "```\n",
        "{[Key 1]: [Value 1], [Key 2]: [Value 2], [Key 3]: [Value 3] ....}\n",
        "```\n",
        "\n",
        "Empty dictionary can be written as `{}`, the same as list. As with lists, dictionaries are usually assigned to variables."
      ]
    },
    {
      "cell_type": "code",
      "metadata": {
        "id": "tTI0rlF0inhy"
      },
      "source": [
        "my_dic = { \"apple\" : 12 , \"banana\" : 3 , \"orange\" : 51 , \"grape\" : 1 }\n",
        "print( my_dic )"
      ],
      "execution_count": null,
      "outputs": []
    },
    {
      "cell_type": "markdown",
      "metadata": {
        "id": "tS3knAOyjE5w"
      },
      "source": [
        "To use a value in the dictionary, specify the key with \\[\\] as shown in the code below."
      ]
    },
    {
      "cell_type": "code",
      "metadata": {
        "id": "13u0GAzpiZh2"
      },
      "source": [
        "my_dic = { \"apple\" : 12 , \"banana\" : 3 , \"orange\" : 51 , \"grape\" : 1 }\n",
        "\n",
        "my_value = my_dic[ \"banana\" ]\n",
        "print( my_value )"
      ],
      "execution_count": null,
      "outputs": []
    },
    {
      "cell_type": "markdown",
      "metadata": {
        "id": "EWNgjHD8jQL5"
      },
      "source": [
        "You can also add key / value pairs to an existing dictionary by assigning a value to a nonexistent key."
      ]
    },
    {
      "cell_type": "code",
      "metadata": {
        "id": "9-eD-a9ojYiw"
      },
      "source": [
        "my_dic = { \"apple\" : 12 , \"banana\" : 3 , \"orange\" : 51 , \"grape\" : 1 }\n",
        "my_dic[ \"peach\" ] = 2\n",
        "print( my_dic )"
      ],
      "execution_count": null,
      "outputs": []
    },
    {
      "cell_type": "markdown",
      "metadata": {
        "id": "qcglielUZ_9J"
      },
      "source": [
        "Another way is by using the method `.update`. This is useful for combining two dictionaries together or simply adding a key/value pair."
      ]
    },
    {
      "cell_type": "code",
      "metadata": {
        "id": "Xn7lG8PbaWIz"
      },
      "source": [
        "my_dic = { \"apple\" : 12 , \"banana\" : 3 , \"orange\" : 51 , \"grape\" : 1 }\n",
        "my_dic.update({\"peach\":2})\n",
        "print( my_dic )"
      ],
      "execution_count": null,
      "outputs": []
    },
    {
      "cell_type": "markdown",
      "metadata": {
        "id": "Ga1pKV0ajXXK"
      },
      "source": [
        "In addition, you can update the value of a key that already exists."
      ]
    },
    {
      "cell_type": "code",
      "metadata": {
        "id": "-E30IIJrjWqM"
      },
      "source": [
        "my_dic = { \"apple\" : 12 , \"banana\" : 3 , \"orange\" : 51 , \"grape\" : 1 }\n",
        "my_dic[ \"apple\" ] = 100\n",
        "print( my_dic )"
      ],
      "execution_count": null,
      "outputs": []
    },
    {
      "cell_type": "markdown",
      "metadata": {
        "id": "a0LAkj_nYVIt"
      },
      "source": [
        "### Exercise <font color=\"Crimson\">9-1\n",
        "**Write a Python script to add a key to a dictionary.**\n",
        "```\n",
        "Sample Dictionary : {0: 10, 1: 20}\n",
        "Expected Result : {0: 10, 1: 20, 2: 30}\n",
        "```"
      ]
    },
    {
      "cell_type": "code",
      "metadata": {
        "id": "5MurCk28YDgq"
      },
      "source": [
        "#Exercise 9-1\n",
        "d =\n",
        "print(d)"
      ],
      "execution_count": null,
      "outputs": []
    },
    {
      "cell_type": "markdown",
      "metadata": {
        "id": "63h-DiViY2_m"
      },
      "source": [
        "### Exercise <font color=\"Crimson\">9-2\n",
        "**Write a Python script to print a dictionary where the keys are numbers between 1 and 15 (both included) and the values are square of keys.**\n",
        "```\n",
        "Sample Dictionary\n",
        "{1: 1, 2: 4, 3: 9, 4: 16, 5: 25, 6: 36, 7: 49, 8: 64, 9: 81, 10: 100, 11: 121, 12: 144, 13: 169, 14: 196, 15: 225}\n",
        "```"
      ]
    },
    {
      "cell_type": "code",
      "metadata": {
        "id": "hIqeZG8sY2gJ"
      },
      "source": [
        "#Exercise 9-2\n"
      ],
      "execution_count": null,
      "outputs": []
    },
    {
      "cell_type": "markdown",
      "metadata": {
        "id": "gT01eAy7jnBH"
      },
      "source": [
        "## 9.2 | <font color=\"Crimson\"> Functions available for dictionaries</font>\n",
        "Two typical functions that can be used with dictionaries are:\n",
        "\n",
        "| Function | Description |\n",
        "| --- | --- |\n",
        "| dictionary**.keys ()** | Returns all keys set in the dictionary <br> Return value is dict_keys type |\n",
        "| dictionary**.values ()** | Returns all values set in the dictionary <br> The return value is of type dict_values |\n",
        "\n",
        "Since each return value is a special type, it is convenient to convert it to a list type using the built-in function list ()."
      ]
    },
    {
      "cell_type": "code",
      "metadata": {
        "id": "9quQ0KBHj6dc"
      },
      "source": [
        "my_dic = { \"apple\" : 12 , \"banana\" : 3 , \"orange\" : 51 , \"grape\" : 1 }\n",
        "print( my_dic.keys() )"
      ],
      "execution_count": null,
      "outputs": []
    },
    {
      "cell_type": "code",
      "metadata": {
        "id": "8qDVn8fLkB9m"
      },
      "source": [
        "my_dic = { \"apple\" : 12 , \"banana\" : 3 , \"orange\" : 51 , \"grape\" : 1 }\n",
        "li = list( my_dic.keys() )\n",
        "print( li )"
      ],
      "execution_count": null,
      "outputs": []
    },
    {
      "cell_type": "code",
      "metadata": {
        "id": "_HAF6cPbkEFT"
      },
      "source": [
        "my_dic = { \"apple\" : 12 , \"banana\" : 3 , \"orange\" : 51 , \"grape\" : 1 }\n",
        "print( my_dic.values() )"
      ],
      "execution_count": null,
      "outputs": []
    },
    {
      "cell_type": "code",
      "metadata": {
        "id": "2BHEid0mkGcH"
      },
      "source": [
        "my_dic = { \"apple\" : 12 , \"banana\" : 3 , \"orange\" : 51 , \"grape\" : 1 }\n",
        "li = list( my_dic.values() )\n",
        "print( li )"
      ],
      "execution_count": null,
      "outputs": []
    },
    {
      "cell_type": "markdown",
      "metadata": {
        "id": "3_VAhJ4CkLkq"
      },
      "source": [
        "## 9.3 | <font color=\"Crimson\"> Dictionary with `for`\n",
        "Like lists, dictionaries can be use together with 'for'.\n",
        "\n",
        "When a 'for' statement is applied to a dictionary, each key is assigned to a variable."
      ]
    },
    {
      "cell_type": "code",
      "metadata": {
        "id": "PH9XbW3KkY7j"
      },
      "source": [
        "my_dic = { \"apple\" : 12 , \"banana\" : 3 , \"orange\" : 51 , \"grape\" : 1 }\n",
        "for j in my_dic:\n",
        "  print( j )"
      ],
      "execution_count": null,
      "outputs": []
    },
    {
      "cell_type": "markdown",
      "metadata": {
        "id": "HkaLvh0LkaYH"
      },
      "source": [
        "You can retrieve the value using this property."
      ]
    },
    {
      "cell_type": "code",
      "metadata": {
        "id": "TA-LOFWKkfqx"
      },
      "source": [
        "my_dic = { \"apple\" : 12 , \"banana\" : 3 , \"orange\" : 51 , \"grape\" : 1 }\n",
        "for j in my_dic:\n",
        "  print( my_dic[j] )"
      ],
      "execution_count": null,
      "outputs": []
    },
    {
      "cell_type": "markdown",
      "metadata": {
        "id": "rFpqMC0Gksta"
      },
      "source": [
        "Simple application"
      ]
    },
    {
      "cell_type": "code",
      "metadata": {
        "id": "FbWgqtqXktom"
      },
      "source": [
        "my_dic = { \"apple\" : 12 , \"banana\" : 3 , \"orange\" : 51 , \"grape\" : 1 }\n",
        "for j in my_dic:\n",
        "  value = my_dic[j]\n",
        "  output = \"The number of {0} is {1}.\".format( j , value )\n",
        "  print( output )"
      ],
      "execution_count": null,
      "outputs": []
    },
    {
      "cell_type": "markdown",
      "metadata": {
        "id": "LWGCjGgubFwJ"
      },
      "source": [
        "### Exercise <font color=\"Crimson\">9-3\n",
        "**Write a Python script to concatenate following dictionaries to create a new one.**\n",
        "```\n",
        "Sample Dictionary :\n",
        "dic1={1:10, 2:20}\n",
        "dic2={3:30, 4:40}\n",
        "dic3={5:50, 6:60}\n",
        "Expected Result : {1: 10, 2: 20, 3: 30, 4: 40, 5: 50, 6: 60}\n",
        "```\n",
        "*Hint: Make a new empty dictionary called dic4 then use `for` to add elements of 'dic1, dic2, dic3' to dic4 in a form of key/value pair.*\n",
        "\n"
      ]
    },
    {
      "cell_type": "code",
      "metadata": {
        "id": "AQGJl1uKbE_h"
      },
      "source": [
        "#Exercise 9-3\n",
        "dic1={1:10, 2:20}\n",
        "dic2={3:30, 4:40}\n",
        "dic3={5:50, 6:60}\n"
      ],
      "execution_count": null,
      "outputs": []
    },
    {
      "cell_type": "markdown",
      "metadata": {
        "id": "s0qBFhjqk2_r"
      },
      "source": [
        "# <font color=\"Crimson\">10</font>&nbsp;<font color=\"silver\">|</font> &nbsp;More about String"
      ]
    },
    {
      "cell_type": "markdown",
      "metadata": {
        "id": "ik8F06ValFdk"
      },
      "source": [
        "## 10.1 | <font color=\"Crimson\"> Character Extraction\n",
        "Based on knowledge related to list types, we will learn about strings once again.\n",
        "\n",
        "List type and string (string type) are completely different types of data, but there is a common point that multiple elements have a certain order.\n",
        "\n",
        "Therefore, the string can be handled in the same way as the list type. For example, partial character string extraction using an index.\n",
        "\n",
        "If an index is given to a list type instance, the element of that part could be extracted. A string can be extracted in the same way."
      ]
    },
    {
      "cell_type": "code",
      "metadata": {
        "id": "NLYJA-J4k2fG"
      },
      "source": [
        "word = 'Python'\n",
        "print( \"character in position 0\" )\n",
        "print( word[0] ) # character in position 0\n",
        "\n",
        "print( \"character in position 5\" )\n",
        "print( word[5] )  # character in position 5\n",
        "\n",
        "print( \"last character\" )\n",
        "print( word[-1] )  # last character\n",
        "\n",
        "print( \"second-last character\" )\n",
        "print( word[-2] )  # second-last character"
      ],
      "execution_count": null,
      "outputs": []
    },
    {
      "cell_type": "markdown",
      "metadata": {
        "id": "zQ1245GMlRsc"
      },
      "source": [
        "In this way, the index counting method is the same as the list.\n",
        "\n",
        "You can also get a partial string by giving two indices, start and end. This process is called slicing."
      ]
    },
    {
      "cell_type": "code",
      "metadata": {
        "id": "K5ftWuDTlUI8"
      },
      "source": [
        "word = 'Python'\n",
        "print( \"result of word[0:2]\" )\n",
        "print( word[0:2] )  # characters from position 0 (included) to 2 (excluded)\n",
        "\n",
        "print( \"result of word[2:5]\" )\n",
        "print( word[2:5] )  # characters from position 2 (included) to 5 (excluded)"
      ],
      "execution_count": null,
      "outputs": []
    },
    {
      "cell_type": "markdown",
      "metadata": {
        "id": "BJih9rCplasH"
      },
      "source": [
        "As with lists, the start index is always included and the end index is always included.\n",
        "\n",
        "This characteristic is difficult to remember, but is easy to understand if you are aware that the index is located between each element."
      ]
    },
    {
      "cell_type": "markdown",
      "metadata": {
        "id": "Yym92iq8lqdv"
      },
      "source": [
        "```\n",
        "  +---+---+---+---+---+---+\n",
        "  | P | y | t | h | o | n |\n",
        "  +---+---+---+---+---+---+\n",
        "  0   1   2   3   4   5   6\n",
        " -6  -5  -4  -3  -2  -1\n",
        "```\n",
        "\n",
        "When slicing, if one index is omitted, the left or right end of the string is automatically specified."
      ]
    },
    {
      "cell_type": "code",
      "metadata": {
        "id": "IMvtslVMl4n4"
      },
      "source": [
        "word = 'Python'\n",
        "\n",
        "print( \"result of word[:2]\" )\n",
        "print( word[:2] )   # character from the beginning to position 2 (excluded)\n",
        "\n",
        "print( \"result of word[4:]\" )\n",
        "print( word[4:] )  # characters from position 4 (included) to the end\n",
        "\n",
        "print( \"result of word[-2:]\" )\n",
        "print( word[-2:] ) # characters from the second-last (included) to the end"
      ],
      "execution_count": null,
      "outputs": []
    },
    {
      "cell_type": "code",
      "metadata": {
        "id": "EP1EhDYRjBcr"
      },
      "source": [
        "word = 'python'\n",
        "result = ''\n",
        "for i in range(len(word)):\n",
        "  if i % 2 == 0:\n",
        "    result = result + word[i]\n",
        "print(result)"
      ],
      "execution_count": null,
      "outputs": []
    },
    {
      "cell_type": "markdown",
      "metadata": {
        "id": "KcKouqp0fCOY"
      },
      "source": [
        "### Exercise <font color=\"Crimson\">10-1\n",
        "**Write a Python program to get a string made of the first 2 and the last 2 chars from a given a string. If the string length is less than 2, return \"Empty String\".**\n",
        "```\n",
        "Sample String   : 'w3resource'\n",
        "Expected Result : 'w3ce'\n",
        "Sample String   : 'w3'\n",
        "Expected Result : 'w3w3'\n",
        "Sample String   : 'w'\n",
        "Expected Result : Empty String\n",
        "```"
      ]
    },
    {
      "cell_type": "code",
      "metadata": {
        "id": "QI5tts5v8Z89"
      },
      "source": [
        "#Exercise 10-1"
      ],
      "execution_count": null,
      "outputs": []
    },
    {
      "cell_type": "markdown",
      "metadata": {
        "id": "LbLbdWiHmXIm"
      },
      "source": [
        "## 10.2 | <font color=\"Crimson\">  Functions that can handle strings</font>\n",
        "There are several methods for strings such as `str.format ()` introduced in section 1-5-2.\n",
        "https://docs.python.org/3.6/library/stdtypes.html#string-methods\n",
        "\n",
        "I can't cover all of them, but here are some of the most important ones.\n",
        "\n",
        "| Function | Description |\n",
        "| --- | --- |\n",
        "| str**.count ()** | Count how many times the string given as an argument appears in the string.|\n",
        "| str**.lower ()** | Returns a string with all letters in str in lowercase.|\n",
        "| str**.upper ()** | Returns a string with all alphabets in str capitalized.|\n",
        "| str**.join (list etc.)** | Returns a string that is concatenated with str by the list of strings given in the argument.|\n",
        "| str**.split (sep)** | Splits str using the string given by the argument (sep) as a delimiter, and returns it as a list.|\n",
        "| str**.replace (old, new)** | Returns the string specified in argument 1 (old) with the string specified in argument 2 (new).|\n",
        "\n",
        "Also, `len ()`, used to check the number of elements in a list, can be used for strings."
      ]
    },
    {
      "cell_type": "markdown",
      "metadata": {
        "id": "F0dQ6k9BmgDi"
      },
      "source": [
        "### str.count()"
      ]
    },
    {
      "cell_type": "code",
      "metadata": {
        "id": "C7mwUHDZmfVD"
      },
      "source": [
        "words = \"Love the life you live. Live the life you love.\"\n",
        "\n",
        "print(\"result of words.count(\\\"life\\\")\")\n",
        "print( words.count(\"life\") )\n",
        "\n",
        "print(\"result of words.count(\\\"love\\\")\")\n",
        "print( words.count(\"love\") )"
      ],
      "execution_count": null,
      "outputs": []
    },
    {
      "cell_type": "markdown",
      "metadata": {
        "id": "x-tao-fsmd_t"
      },
      "source": [
        "At this time, Love and love are distinguished by case.\n",
        "By combining `str.lower()` and `str.upper()`, you can count strings by ignoring case."
      ]
    },
    {
      "cell_type": "code",
      "metadata": {
        "id": "iPZw7Pf7mWxM"
      },
      "source": [
        "words = \"Love the life you live. Live the life you love.\"\n",
        "\n",
        "words_low = words.lower()\n",
        "\n",
        "print(\"result of words_low.count('love')\")\n",
        "print( words_low.count('love') )"
      ],
      "execution_count": null,
      "outputs": []
    },
    {
      "cell_type": "code",
      "metadata": {
        "id": "_KhD7gSbmzqT"
      },
      "source": [
        "dna = \"atatcgatacacagtttcagtatcatgat\"\n",
        "dna_up = dna.upper()\n",
        "print( dna_up.count(\"A\") )"
      ],
      "execution_count": null,
      "outputs": []
    },
    {
      "cell_type": "markdown",
      "metadata": {
        "id": "NxpyLdLMmzR2"
      },
      "source": [
        "### str.join()"
      ]
    },
    {
      "cell_type": "code",
      "metadata": {
        "id": "KSOqJsWtm71U"
      },
      "source": [
        "li = ['Peace', 'begins', 'with', 'a', 'smile.']\n",
        "word = \" \".join( li ) # joins items in the list with \" \", a space.\n",
        "print(word)"
      ],
      "execution_count": null,
      "outputs": []
    },
    {
      "cell_type": "code",
      "metadata": {
        "id": "O4BO1dRNm-u_"
      },
      "source": [
        "li = ['Peace', 'begins', 'with', 'a', 'smile.']\n",
        "word = \", \".join( li ) # joins items in the list with \" \", a space.\n",
        "print(word)"
      ],
      "execution_count": null,
      "outputs": []
    },
    {
      "cell_type": "markdown",
      "metadata": {
        "id": "ksll2rw1m_oG"
      },
      "source": [
        "### str.split()"
      ]
    },
    {
      "cell_type": "code",
      "metadata": {
        "id": "yaQP6kFEnDOg"
      },
      "source": [
        "word = \"Peace begins with a smile.\"\n",
        "print( word.split(\" \") ) # splits the string with spaces."
      ],
      "execution_count": null,
      "outputs": []
    },
    {
      "cell_type": "markdown",
      "metadata": {
        "id": "rJhpabAdq4QX"
      },
      "source": [
        "### Exercise <font color=\"Crimson\">10-4\n",
        "**Write a Python program to rewrite a sentence into a dying sentence, like in a movie.**\n",
        "```\n",
        "Sample string: 'I love you'\n",
        "Expected output : 'I... love... you...'\n",
        "```"
      ]
    },
    {
      "cell_type": "code",
      "metadata": {
        "id": "YakFWr5M-Ip7"
      },
      "source": [
        "#Exercise 10-4"
      ],
      "execution_count": null,
      "outputs": []
    },
    {
      "cell_type": "markdown",
      "metadata": {
        "id": "B4NFJjBvnGT3"
      },
      "source": [
        "### str.replace()"
      ]
    },
    {
      "cell_type": "code",
      "metadata": {
        "id": "Bl4c_sKGnFfq"
      },
      "source": [
        "word = \"This is an apple.\"\n",
        "print( word.replace(\"apple\",\"orange\") )"
      ],
      "execution_count": null,
      "outputs": []
    },
    {
      "cell_type": "code",
      "metadata": {
        "id": "uuhwsDIynMfq"
      },
      "source": [
        "dna = \"ATATCGATACACAGTTTCAGTATCATGAT\"\n",
        "dna_replaced = dna.replace(\"A\",\"G\")\n",
        "print( dna_replaced )"
      ],
      "execution_count": null,
      "outputs": []
    },
    {
      "cell_type": "markdown",
      "metadata": {
        "id": "li-Tqxnfikmx"
      },
      "source": [
        "### Exercise <font color=\"Crimson\">10-5\n",
        "**In the game Final Fantasy X, the Al Bhed language is spoken by the Al Bhed people and its work like a substitution cipher (a language system replacing certain letters with others). Here's the dictionary for the conversion. The key is in English, while the value is in Al Bhed.**\n",
        "```\n",
        "al_bhed_dic = {'E':'A', 'P':'B', 'S':'C', 'T':'D', 'I':'E', 'W':'F', 'K':'G', 'N':'H', 'U':'I', 'V':'J', 'G':'K', 'C':'L', 'L':'M', 'R':'N', 'Y':'O', 'B':'P', 'X':'Q', 'H':'R', 'M':'S', 'D':'T', 'O':'U', 'F':'Z', 'Z':'W', 'Q':'X', 'A':'Y', 'J':'Z', ' ': ' ', '.':'.'}\n",
        "  ```\n",
        "Write a Python program to translate an English sentence into Al Bhed.\n",
        "```\n",
        "Sample String   : 'I AM LEARNING PYTHON LANGUAGE.'\n",
        "Expected Result : 'E YS MAYNHEHK BODRUH MYHKIYKA.'\n",
        "```"
      ]
    },
    {
      "cell_type": "code",
      "metadata": {
        "id": "CWn-L9n4ikBP"
      },
      "source": [
        "#Exercise 10-5\n"
      ],
      "execution_count": null,
      "outputs": []
    },
    {
      "cell_type": "markdown",
      "metadata": {
        "id": "I6jcjWh2nPjH"
      },
      "source": [
        "### len(str)"
      ]
    },
    {
      "cell_type": "code",
      "metadata": {
        "id": "i6odOuqcnQi8"
      },
      "source": [
        "word = \"This is an apple.\"\n",
        "print( len(word) )"
      ],
      "execution_count": null,
      "outputs": []
    },
    {
      "cell_type": "code",
      "metadata": {
        "id": "hthIZTkFnTiB"
      },
      "source": [
        "dna = \"ATATCGATACACAGTTTCAGTATCATGAT\"\n",
        "dna_len = len(dna)\n",
        "print(\"The length of the DNA sequence is {0} nucleotids.\".format(dna_len) )"
      ],
      "execution_count": null,
      "outputs": []
    },
    {
      "cell_type": "markdown",
      "metadata": {
        "id": "SeHl11-1hd_m"
      },
      "source": [
        "### Exercise <font color=\"Crimson\">10-6\n",
        "**Write a Python program to remove the characters which have odd index values of a given string.**\n",
        "```\n",
        "Sample String   : 'python'\n",
        "Expected Result : 'pto'\n",
        "```"
      ]
    },
    {
      "cell_type": "code",
      "metadata": {
        "id": "_IsA7BD0jzT9"
      },
      "source": [
        "#Exercise 10-6\n",
        "\n",
        "word = 'python'\n"
      ],
      "execution_count": null,
      "outputs": []
    },
    {
      "cell_type": "markdown",
      "metadata": {
        "id": "owMkdlGknd2p"
      },
      "source": [
        "# <font color=\"Crimson\">11</font>&nbsp;<font color=\"silver\">|</font> &nbsp;File Operation\n",
        "In most cases, a program written in `python` takes some input and processes it. And in many cases, the input data is passed to `python`, written to some file.\n",
        "\n",
        "In this section, you will learn to open an external file and retrieve the data in it."
      ]
    },
    {
      "cell_type": "markdown",
      "metadata": {
        "id": "pHYu3X7bnq5m"
      },
      "source": [
        "First, prepare the file. Please execute the following code. The file to be read this time will be downloaded."
      ]
    },
    {
      "cell_type": "code",
      "metadata": {
        "id": "x2wcGjGMnu2o"
      },
      "source": [
        "!wget https://raw.githubusercontent.com/takuronkym/bioinfo_python_tutorial/master/data/skillup_2019b/d0401_sample_text.txt"
      ],
      "execution_count": null,
      "outputs": []
    },
    {
      "cell_type": "markdown",
      "metadata": {
        "id": "r7zOLZNDn85M"
      },
      "source": [
        "## 11.1 | <font color=\"Crimson\"> Open and close the file</font>\n",
        "To read the contents of the file, you must open the file.\n",
        "The important thing is that once a file is opened, it must be **closed** in that code.\n",
        "File opening and closing is done with the functions `open ()` and `file.close ()`, respectively.\n",
        "```\n",
        "fin = open ([location of files in the computer], [open mode])\n",
        "fin.close ()\n",
        "```\n",
        "As shown above, the open () function is given information on the location of the desired file on the computer and the mode (how to open the file) as arguments.\n",
        "Refer to the table below for the modes. Two common modes are `r` read-only and `w` read-write.\n",
        "\n",
        "| Character | Meaning |\n",
        "| --- | --- |\n",
        "'r' | Open for reading (default)\n",
        "'w' | Open for writing, first truncate the file\n",
        "'x' | Creates and opens a new file and fails if the file exists\n",
        "'a' | Open for writing and append to end if file exists\n",
        "'b' | Binary mode\n",
        "'t' | text mode (default)\n",
        "\n",
        "In the code example above, the instance created by open () is stored in a variable called `fin`.\n",
        "\n",
        "The instance created here is called a file object and cannot be used as it is. It is necessary to read and use it further.\n",
        "\n",
        "Let's take a look at a code example."
      ]
    },
    {
      "cell_type": "code",
      "metadata": {
        "id": "fNGB4zMGoNnl"
      },
      "source": [
        "fin = open( \"/content/d0401_sample_text.txt\", \"r\" )\n",
        "print( fin.read() )\n",
        "fin.close()"
      ],
      "execution_count": null,
      "outputs": []
    },
    {
      "cell_type": "markdown",
      "metadata": {
        "id": "QJnSPGqroST2"
      },
      "source": [
        "In the above example, the file `d0401_sample_text.txt` that exists in the directory `/content/` on the computer (similar to a folder) is opened in read mode` r`, and the file object is assigned to `fin`.\n",
        "\n",
        "`fin.read()` is a method to retrieve the data held by fin as a string.\n",
        "\n",
        "The extracted string is displayed by `print()`, and then the file is closed with `fin.close()`. **"
      ]
    },
    {
      "cell_type": "markdown",
      "metadata": {
        "id": "wS1gSrC_ooPL"
      },
      "source": [
        "#### How to get PATH and google colaboratory PATH"
      ]
    },
    {
      "cell_type": "markdown",
      "metadata": {
        "id": "AfGQVIl7oziN"
      },
      "source": [
        "As in the example above, when opening a file, you need to pass the file location information to the `open()` function. The location information for this file is called PATH. Think of it as a file address."
      ]
    },
    {
      "cell_type": "markdown",
      "metadata": {
        "id": "MwisHodFo8yF"
      },
      "source": [
        "The google colaboratory is different from the normal python execution environment, and the PATH acquisition method is slightly different. Here is how to get PATH with google colaboratory.\n",
        "\n",
        "1. Click the \"File\" tab in the left pane of the google colaboratory screen.\n",
        "2. There should be a file named d0401_sample_text.txt.\n",
        "3. Right-click on this file and select \"Copy Path\" from the submenue.\n",
        "\n",
        "The file path information has been copied to the clipboard in the above operation, so you can paste it anywhere. Use `Ctrl + v` or `Command + v` for pasting."
      ]
    },
    {
      "cell_type": "markdown",
      "metadata": {
        "id": "15jQQhhOpPnw"
      },
      "source": [
        "Then, copy `d0401_sample_text.txt` as described above, complete the code below, and execute it.\n",
        "Note: The copied path is not quoted. Please execute it with appropriate quotations."
      ]
    },
    {
      "cell_type": "code",
      "metadata": {
        "id": "JIEhs-YyozDF"
      },
      "source": [
        "fin = open( , \"r\" )\n",
        "print( fin.read() )\n",
        "fin.close()"
      ],
      "execution_count": null,
      "outputs": []
    },
    {
      "cell_type": "markdown",
      "metadata": {
        "id": "XVUTXVGkpZ8N"
      },
      "source": [
        "## 11.2 | <font color=\"Crimson\"> How to extract a value from a file object"
      ]
    },
    {
      "cell_type": "markdown",
      "metadata": {
        "id": "M-rB-NkBpvb9"
      },
      "source": [
        "#### file.read(), file.readline(), file.readlines()\n",
        "In the above example, we used the `file.read()` function to retrieve the value from the file object.In addition to this, there are multiple functions for retrieving values.\n",
        "\n",
        "| Function | Description |\n",
        "| --- | --- |\n",
        "| file**.read()** | Read file **all** and return `str` object |\n",
        "| file**.readline()** |**Read line by line** and return as `str` type object |\n",
        "| file**.readlines()** | Reads all files **and returns a list of str-type objects divided into lines**\n",
        "\n",
        "Let's see how each function works."
      ]
    },
    {
      "cell_type": "code",
      "metadata": {
        "id": "nJSCathRp_T5"
      },
      "source": [
        "fin = open( \"/content/d0401_sample_text.txt\", \"r\" )\n",
        "print( fin.read() )\n",
        "fin.close()"
      ],
      "execution_count": null,
      "outputs": []
    },
    {
      "cell_type": "code",
      "metadata": {
        "id": "L6Z-J69dpYU4"
      },
      "source": [
        "fin = open( \"/content/d0401_sample_text.txt\", \"r\" )\n",
        "print( fin.readline() )\n",
        "fin.close()"
      ],
      "execution_count": null,
      "outputs": []
    },
    {
      "cell_type": "code",
      "metadata": {
        "id": "JuOfizJPqDjh"
      },
      "source": [
        "fin = open( \"/content/d0401_sample_text.txt\", \"r\" )\n",
        "print( fin.readlines() )\n",
        "fin.close()"
      ],
      "execution_count": null,
      "outputs": []
    },
    {
      "cell_type": "markdown",
      "metadata": {
        "id": "2NK-oIAyqJ0b"
      },
      "source": [
        "Thus, `file.read()` printed all lines, `file.readline()` printed the first line, and `file.readlines ()` printed all lines as a list.\n",
        "\n",
        "By the way, as a feature of the file object, once the value is retrieved with `file.read()` etc., the retrieved value cannot be retrieved again. For example, in the above example, the `.read()` function is used twice for the file object `fin`, and the return value is printed, but only the first minute is output."
      ]
    },
    {
      "cell_type": "code",
      "metadata": {
        "id": "kA-JQQEsqQAe"
      },
      "source": [
        "fin = open( \"/content/d0401_sample_text.txt\", \"r\" )\n",
        "print( fin.read() )\n",
        "print( fin.read() )\n",
        "fin.close()"
      ],
      "execution_count": null,
      "outputs": []
    },
    {
      "cell_type": "markdown",
      "metadata": {
        "id": "OQDcPSgWqUdG"
      },
      "source": [
        "Also, to process all lines with `file.readline()`, it must be combined with a while statement."
      ]
    },
    {
      "cell_type": "code",
      "metadata": {
        "id": "pJPmuFCKqYsR"
      },
      "source": [
        "fin = open( \"/content/d0401_sample_text.txt\", \"r\" )\n",
        "line = fin.readline()\n",
        "while line:\n",
        "  print( line )\n",
        "  line = fin.readline()\n",
        "fin.close()"
      ],
      "execution_count": null,
      "outputs": []
    },
    {
      "cell_type": "markdown",
      "metadata": {
        "id": "_BCL64ybqi4z"
      },
      "source": [
        "### Process one line at a time with for\n",
        "\n",
        "You can also loop a file object with a `for` statement as shown below.\n",
        "```\n",
        "for line in file:\n",
        "   print(line)\n",
        "```\n",
        "In this case, each time the loop turns, the string in file is stored in a variable (`line` in the above case) as a string, line by line, and processed."
      ]
    },
    {
      "cell_type": "code",
      "metadata": {
        "id": "4_BB7EOxqimF"
      },
      "source": [
        "fin = open( \"/content/d0401_sample_text.txt\", \"r\" )\n",
        "for line in fin:\n",
        "  print( line )\n",
        "fin.close()"
      ],
      "execution_count": null,
      "outputs": []
    },
    {
      "cell_type": "markdown",
      "metadata": {
        "id": "cdIA8Ds_qtn2"
      },
      "source": [
        "It is recommended to write in this way because it is concise and does not put pressure on memory (temporary storage) when processing large files."
      ]
    },
    {
      "cell_type": "markdown",
      "metadata": {
        "id": "QmnOgJNR2NcU"
      },
      "source": [
        "### Exercise <font color=\"Crimson\">11-1\n",
        "First, download a text by executing a code below."
      ]
    },
    {
      "cell_type": "code",
      "metadata": {
        "id": "bhnr--ou2YoI"
      },
      "source": [
        "!wget https://raw.githubusercontent.com/takuronkym/bioinfo_python_tutorial/master/data/skillup_2019b/DSP.txt"
      ],
      "execution_count": null,
      "outputs": []
    },
    {
      "cell_type": "markdown",
      "metadata": {
        "id": "3cqV2N-DW-rT"
      },
      "source": [
        "After execution of the code above, click `REFRESH` on the Files tab in the left pane. Check if the file `DSP.txt` exists."
      ]
    },
    {
      "cell_type": "markdown",
      "metadata": {
        "id": "rvdxlwPu2YvS"
      },
      "source": [
        "**Write a Python program to print all text included in the file `DSP.txt` using `file.read()`.**\n"
      ]
    },
    {
      "cell_type": "code",
      "metadata": {
        "id": "Kuh04OKI24wt"
      },
      "source": [
        "#Exercise 11-1\n",
        "fin = open( \"/content/DSP.txt\", \"r\" )\n",
        "# Your code\n",
        "fin.close()"
      ],
      "execution_count": null,
      "outputs": []
    },
    {
      "cell_type": "markdown",
      "metadata": {
        "id": "_oapTcLM3BQL"
      },
      "source": [
        "### Exercise <font color=\"Crimson\">11-2\n",
        "**Write a Python program to print all text included in the file `DSP.txt` using `file.readline()`.**\n"
      ]
    },
    {
      "cell_type": "code",
      "metadata": {
        "id": "rhl9zpRi3L4e"
      },
      "source": [
        "#Exercise 11-2\n"
      ],
      "execution_count": null,
      "outputs": []
    },
    {
      "cell_type": "markdown",
      "metadata": {
        "id": "XIrHRiP85Oqk"
      },
      "source": [
        "### Exercise <font color=\"Crimson\">11-3\n",
        "**Write a Python program to extract each line in `DSP.txt` using `for line in file:`, store the lines into a list and print it**"
      ]
    },
    {
      "cell_type": "code",
      "metadata": {
        "id": "sLIJtsbH5a8B"
      },
      "source": [
        "#Exercise 11-3\n"
      ],
      "execution_count": null,
      "outputs": []
    },
    {
      "cell_type": "markdown",
      "metadata": {
        "id": "FVFygA6D3kKW"
      },
      "source": [
        "### Exercise <font color=\"Crimson\">11-4\n",
        "**Write a Python program to extract each line in `DSP.txt` using `for line in file:`, count the number of characters of each line and print them**\n",
        "Don't count linebreaks (\\n). You can remove linebreak at the end of each line by `str.rstrip()`.\n",
        "  \n",
        "Expected result:\n",
        "  ```\n",
        "256\n",
        "177\n",
        "291\n",
        "189\n",
        "117\n",
        "  ```"
      ]
    },
    {
      "cell_type": "code",
      "metadata": {
        "id": "NRErM2Bf3kP-"
      },
      "source": [
        "#Exercise 11-4\n"
      ],
      "execution_count": null,
      "outputs": []
    },
    {
      "cell_type": "markdown",
      "metadata": {
        "id": "FHbN-0Saq02I"
      },
      "source": [
        "# <font color=\"Crimson\">12</font>&nbsp;<font color=\"silver\">|</font> &nbsp;Library\n"
      ]
    },
    {
      "cell_type": "markdown",
      "metadata": {
        "id": "MOXOxeT6q76r"
      },
      "source": [
        "As introduced so far, there are various functions in python. However, if you use an extension mechanism called a library, you can handle more functions and types.\n",
        "\n",
        "These individual extensions of python are called libraries, modules, packages, etc. Although the detailed definition is different, it seems that there is no problem considering that it is roughly the same concept.\n",
        "\n",
        "There are libraries that are frequently used in python programming, and the existence of the library itself enhances the utility value of the python language. (E.g., machine learning library)"
      ]
    },
    {
      "cell_type": "markdown",
      "metadata": {
        "id": "dpIB5Ri-rHaw"
      },
      "source": [
        "## 12.1 | <font color=\"Crimson\"> How to extract a value from a file object\n",
        "Let's actually use what the library looks like.\n",
        "\n",
        "For example, there is no built-in function that directly calculates the natural logarithm of 3. However, it can be easily calculated using `log()` in a library called `math`.\n",
        "$$\n",
        "\\ log 3\n",
        "$$\n",
        "\n",
        "Let's learn how to use the library using `math` `log()`as an example.\n",
        "\n",
        "To use the library, use the import statement."
      ]
    },
    {
      "cell_type": "code",
      "metadata": {
        "id": "oCpmAZYNrO7H"
      },
      "source": [
        "import math\n",
        "\n",
        "result = math.log(3)\n",
        "print(result)"
      ],
      "execution_count": null,
      "outputs": []
    },
    {
      "cell_type": "markdown",
      "metadata": {
        "id": "pGFmoQ3trUtT"
      },
      "source": [
        "The `import` statement is basically written at the beginning of the code.\n",
        "\n",
        "`math` also has various other functions such as `sqrt () `that calculates the square root, `\n",
        "sin () cos () tan ()` that returns sine, cosine, and tangent."
      ]
    },
    {
      "cell_type": "code",
      "metadata": {
        "id": "Dtc6a2GdrbVj"
      },
      "source": [
        "import math\n",
        "\n",
        "print( math.log(3) )\n",
        "print( math.sin(3) )\n",
        "print( math.cos(3) )\n",
        "print( math.tan(3) )"
      ],
      "execution_count": null,
      "outputs": []
    },
    {
      "cell_type": "markdown",
      "metadata": {
        "id": "LXlnFVwor15K"
      },
      "source": [
        "In addition to math, there is also a `random` library that is often used.\n",
        "\n",
        "`random` has a function to generate a pseudo-random number, and a function using that random number is prepared.\n",
        "Here we introduce `shuffle()` which randomly shuffles list elements and `sample()` which randomly selects k elements from list elements and returns them in a list."
      ]
    },
    {
      "cell_type": "markdown",
      "metadata": {
        "id": "udaaz8NasHN0"
      },
      "source": [
        "First is `shuffle()`. The method `shuffle()` shuffles the list elements with in-place operation (in place, how to replace the original data with the operation result).\n",
        "Note that there is no return value and the list itself is changed."
      ]
    },
    {
      "cell_type": "code",
      "metadata": {
        "id": "-QnrzD-wsWDP"
      },
      "source": [
        "import random\n",
        "li = ['orange', 'apple', 'pear','kiwi', 'banana']\n",
        "random.shuffle(li)\n",
        "print(li)\n"
      ],
      "execution_count": null,
      "outputs": []
    },
    {
      "cell_type": "markdown",
      "metadata": {
        "id": "JG5HEaxrsciI"
      },
      "source": [
        "Next is `sample()`. The method `sample(list, k)` returns a list of k elements selected from the given list. Used for random sampling without overlap."
      ]
    },
    {
      "cell_type": "code",
      "metadata": {
        "id": "UDkq2VSwsndl"
      },
      "source": [
        "import random\n",
        "li = ['orange', 'apple', 'pear','kiwi', 'banana']\n",
        "print( random.sample(li,2) )\n"
      ],
      "execution_count": null,
      "outputs": []
    },
    {
      "cell_type": "markdown",
      "metadata": {
        "id": "B1x0_F1tsydn"
      },
      "source": [
        "Try running the above code multiple times. You should see the result change with each run."
      ]
    },
    {
      "cell_type": "markdown",
      "metadata": {
        "id": "vZ8GBq-YtTcN"
      },
      "source": [
        "### Exercise <font color=\"Crimson\">12-1\n",
        "**Write a Python program, which generates random ten float values in range of 4.0 to 20.0.**\n",
        "\n",
        "Try a google search to find an appropriate function of `random` library."
      ]
    },
    {
      "cell_type": "code",
      "metadata": {
        "id": "q9GcvTQmtSoq"
      },
      "source": [
        "#Exercise 12-1\n",
        "import random\n"
      ],
      "execution_count": null,
      "outputs": []
    },
    {
      "cell_type": "markdown",
      "metadata": {
        "id": "24VgNsnhvEwm"
      },
      "source": [
        "### Exercise <font color=\"Crimson\">12-2\n",
        "**Write a Python program, which calculate a square root value of x (x=49).**\n",
        "\n",
        "Try a google search to find an appropriate function of `math` library."
      ]
    },
    {
      "cell_type": "code",
      "metadata": {
        "id": "XZxETxi5vFCX"
      },
      "source": [
        "#Exercise 12-2\n",
        "import math\n"
      ],
      "execution_count": null,
      "outputs": []
    },
    {
      "cell_type": "markdown",
      "metadata": {
        "id": "SNxoT_1-s4zZ"
      },
      "source": [
        "## 12.2 | <font color=\"Crimson\"> Some Practical Libraries\n",
        "The `random` and `math` introduced above are libraries built into `python` itself and can be imported immediately after installing `python`. Such a library is called a standard library. There are many other standard libraries besides `math` and `random`, which are not covered here. Please refer to the following website for an introduction to the standard library."
      ]
    },
    {
      "cell_type": "markdown",
      "metadata": {
        "id": "gvnJzVwm_yGg"
      },
      "source": [
        "https://docs.python.org/3/library/index.html"
      ]
    },
    {
      "cell_type": "markdown",
      "metadata": {
        "id": "QfY4-XJj_1tn"
      },
      "source": [
        "You can also install and use libraries provided by third parties in python. These are called **external libraries** with respect to the standard library.\n",
        "Some of the external libraries are very popular, and there are many libraries that are indispensable for current python programming.\n",
        "\n",
        "Examples of commonly used external libraries\n",
        "\n",
        "| Library name | Description |\n",
        "| --- | --- |\n",
        "| matplotlib | Library for drawing graphs from data |\n",
        "|seaborn| Library for drawing graphs from data |\n",
        "| numpy | Matrix calculation and other advanced numerical calculations are possible |\n",
        "| pandas | Effective handling of tabular data |\n",
        "| scikit-learn (sklearn) | Machine learning library |\n",
        "\n",
        "Google colaboratory (your environment) `python` already has popular **external libraries** installed, including the four external libraries listed above. If you want to use a library that is not installed, you need to use an external program called `pip`.\n",
        "\n",
        "Here are some examples:\n",
        "\n",
        "An external library called `pycm` is not installed in python of google colaboratory, so an error will occur when trying to import pycm.\n",
        "Try running the code below to see the error."
      ]
    },
    {
      "cell_type": "code",
      "metadata": {
        "id": "cwJ6HiqxATl1"
      },
      "source": [
        "import pycm"
      ],
      "execution_count": null,
      "outputs": []
    },
    {
      "cell_type": "markdown",
      "metadata": {
        "id": "uZzaquWnAUqx"
      },
      "source": [
        "Next, install pandas_profiling using the external program `pip`. You can install it with\n",
        "\n",
        "`pip install [program name]`.\n",
        "\n",
        "However, to execute an external program on jupyter-notebook, it is necessary to add `!` at the beginning of the command line, so here it become\n",
        "\n",
        "`!pip install [program name]`.\n",
        "\n",
        "Then install `pycm` by executing the code below."
      ]
    },
    {
      "cell_type": "code",
      "metadata": {
        "id": "7YCHibK0B1Zj"
      },
      "source": [
        "!pip install pycm"
      ],
      "execution_count": null,
      "outputs": []
    },
    {
      "cell_type": "markdown",
      "metadata": {
        "id": "g5SLDzEBB5L3"
      },
      "source": [
        "There won't be any problem if you import `pycm` again after installation."
      ]
    },
    {
      "cell_type": "code",
      "metadata": {
        "id": "vFeQfTnaCP3j"
      },
      "source": [
        "import pycm"
      ],
      "execution_count": null,
      "outputs": []
    },
    {
      "cell_type": "markdown",
      "metadata": {
        "id": "B1BfMTjRx0n_"
      },
      "source": [
        "### Exercise <font color=\"Crimson\">12-3\n",
        "Below is a code using matplotlib library, which generates a barplot of y with labels in x."
      ]
    },
    {
      "cell_type": "code",
      "metadata": {
        "id": "b1Pk_dCSxfs2"
      },
      "source": [
        "#Example\n",
        "import matplotlib.pyplot as plt\n",
        "\n",
        "x = [\"A\",\"B\",\"C\",\"D\",\"E\"]\n",
        "y = [3, 2, 3, 4, 6]\n",
        "\n",
        "plt.bar(x, y) # generating a bar plot\n",
        "plt.title('plot name') # title of the plot\n",
        "plt.xlabel('labels') # label for x axis\n",
        "plt.ylabel('values') # label for y axis\n",
        "plt.show()"
      ],
      "execution_count": null,
      "outputs": []
    },
    {
      "cell_type": "markdown",
      "metadata": {
        "id": "i4pkYfnpygD_"
      },
      "source": [
        "Here is a list of height (cm) of some students.\n",
        "\n",
        "|Name|height (cm)|\n",
        "|---|---:|\n",
        "|JAMES|190|\n",
        "ROBERT|179\n",
        "LINDA|163\n",
        "LISA|156\n",
        "MARY|172\n",
        "\n",
        "**Write a Python program, which generates a barplot for the list.**\n",
        "\n",
        "Copy and modify the code above.\n",
        "\n",
        "Try a google search to make the bars green.\n",
        "\n",
        "Expected result:\n",
        "\n",
        "<img src=\"https://raw.githubusercontent.com/takuronkym/bioinfo_python_tutorial/master/data/skillup_2019b/Ex12-3_example.png\" width=\"400\">\n"
      ]
    },
    {
      "cell_type": "code",
      "metadata": {
        "id": "X7ThBZRwz8Uq"
      },
      "source": [
        "#Exercise 12-3\n"
      ],
      "execution_count": null,
      "outputs": []
    },
    {
      "cell_type": "markdown",
      "metadata": {
        "id": "cRcj6VO3tAS_"
      },
      "source": [
        "# <font color=\"Crimson\">13</font>&nbsp;<font color=\"silver\">|</font> &nbsp;Functions"
      ]
    },
    {
      "cell_type": "markdown",
      "metadata": {
        "id": "aJChjoScCdOl"
      },
      "source": [
        "## 13.1 | <font color=\"Crimson\"> How to extract a value from a file object"
      ]
    },
    {
      "cell_type": "markdown",
      "metadata": {
        "id": "ou7WRsf7C8BN"
      },
      "source": [
        "So far, we have learned that there are tools with various functions in python, and that more functions can be used by calling the library.\n",
        "On the other hand, you can also create your own functions.\n",
        "If you do something similar many times, it is more efficient to create a function and call it each time than to write similar code many times.\n",
        "\n",
        "Creating a function is also called **defining a function**. Functions can be defined through the `def` statement as follows:\n",
        "```\n",
        "def [function name]():\n",
        "   Process 1\n",
        "   Process 2\n",
        "   Process 3\n",
        "   ・\n",
        "   ・\n",
        "   ・\n",
        "```\n",
        "The following code defines a function that executes 3 + 4 and prints the execution result.\n",
        "Try to run it."
      ]
    },
    {
      "cell_type": "code",
      "metadata": {
        "id": "1bVRQRWVDNOp"
      },
      "source": [
        "def add():\n",
        "  result = 3 + 4\n",
        "  print( result )\n",
        "add()"
      ],
      "execution_count": null,
      "outputs": []
    },
    {
      "cell_type": "markdown",
      "metadata": {
        "id": "qInUP9FpDQGx"
      },
      "source": [
        "The result of `3 + 4` should be displayed.\n",
        "\n",
        "As shown below, it is also possible to set an argument to the function and perform processing using the argument. Setting arguments allows you to create more flexible functions."
      ]
    },
    {
      "cell_type": "code",
      "metadata": {
        "id": "DKDi9idhDZOr"
      },
      "source": [
        "def add(x,y):\n",
        "  result = x + y\n",
        "  print( result )\n",
        "\n",
        "add(4,2)\n",
        "add(8,-3)\n",
        "add(382,-129)"
      ],
      "execution_count": null,
      "outputs": []
    },
    {
      "cell_type": "markdown",
      "metadata": {
        "id": "L0hGpX84DcYF"
      },
      "source": [
        "If you use return in a `def` statement, you can set the return value. The result of processing performed by a function is generally a return value."
      ]
    },
    {
      "cell_type": "code",
      "metadata": {
        "id": "Obc-OPHADm0F"
      },
      "source": [
        "def add(x,y):\n",
        "  result = x + y\n",
        "  return result\n",
        "\n",
        "print( add(4,2) )\n",
        "\n",
        "num = add(9,10)\n",
        "print(num)"
      ],
      "execution_count": null,
      "outputs": []
    },
    {
      "cell_type": "markdown",
      "metadata": {
        "id": "JOFtGeA-Dp2J"
      },
      "source": [
        "### Exercise <font color=\"Crimson\">13-1\n",
        "  \n",
        "**Write the code that performs the FizzBuzz created in Exercise 7-5 as a function named `fizzbuzz()` and performs up to the 100th time.**"
      ]
    },
    {
      "cell_type": "code",
      "metadata": {
        "id": "lMNPTbbXEIQw"
      },
      "source": [
        "#Exercise 13-3\n",
        "def fizzbuzz(x):\n",
        "  # Your code"
      ],
      "execution_count": null,
      "outputs": []
    },
    {
      "cell_type": "markdown",
      "metadata": {
        "id": "d4qGN4wdEOYj"
      },
      "source": [
        "## 13.2 | <font color=\"Crimson\"> `main` function"
      ]
    },
    {
      "cell_type": "markdown",
      "metadata": {
        "id": "-1YpEOWfE_hd"
      },
      "source": [
        "In python, after creating a function called `main()` and defining all the processing to be performed in the program with `main()`, it is recommended to use `if` statement to run `main()` as follows:\n",
        "```\n",
        "def main():\n",
        "     [All processing]\n",
        "if __name__ == '__main__':\n",
        "     main()\n",
        "```\n",
        "At this stage, you don't really need to completely understand the meaning of this if statement.\n",
        "\n",
        "Here are some examples of this `main` function. Try to run these codes and see what `main` function rule in each codes."
      ]
    },
    {
      "cell_type": "code",
      "metadata": {
        "id": "d0KMC8UiGBmj"
      },
      "source": [
        "def main():\n",
        "  li = ['Peace', 'begins', 'with', 'a', 'smile.']\n",
        "  str = \" \".join( li ) # joins items in the list with \" \", a space.\n",
        "  print(str)\n",
        "\n",
        "if __name__ == '__main__':\n",
        "    main()"
      ],
      "execution_count": null,
      "outputs": []
    },
    {
      "cell_type": "code",
      "metadata": {
        "id": "R6pwwt-7GKa7"
      },
      "source": [
        "def main():\n",
        "  i = 100\n",
        "  while i > 80:\n",
        "    print(\"i ({}) is greater than 80.\".format(i))\n",
        "    i -= 1\n",
        "  else:\n",
        "    print(\"i ({}) is equal to 80.\".format(i))\n",
        "\n",
        "if __name__ == '__main__':\n",
        "    main()"
      ],
      "execution_count": null,
      "outputs": []
    },
    {
      "cell_type": "code",
      "metadata": {
        "id": "Gg61USzyGN-f"
      },
      "source": [
        "def add(x,y):\n",
        "  result = x + y\n",
        "  return result\n",
        "\n",
        "def main():\n",
        "  print( add(4,2) )\n",
        "  print( add(8,-3) )\n",
        "  print( add(382,-129) )\n",
        "\n",
        "if __name__ == '__main__':\n",
        "    main()"
      ],
      "execution_count": null,
      "outputs": []
    },
    {
      "cell_type": "markdown",
      "metadata": {
        "id": "pqFx_LFCGefp"
      },
      "source": [
        "This format is not essential for python programming, but it becomes important as you become more familiar with python and write more complex code.\n",
        "\n",
        "Try to write code in this format as much as possible in the future."
      ]
    },
    {
      "cell_type": "markdown",
      "metadata": {
        "id": "GaSKpNPP_1Vl"
      },
      "source": [
        "### Exercise <font color=\"Crimson\">13-2\n",
        "  \n",
        "**Rewrite the code you wrote in Exercise 13-1 in a format of:**\n",
        "  ```\n",
        "def main():\n",
        "     [All processing]\n",
        "if __name__ == '__main__':\n",
        "     main()\n",
        "  ```"
      ]
    },
    {
      "cell_type": "code",
      "metadata": {
        "id": "x_3FKYA7APXJ"
      },
      "source": [
        "#Exercise 13-2\n",
        "def fizzbuzz():\n",
        "  # Your code\n",
        "def main():\n",
        "  # Your code\n",
        "\n",
        "if __name__ == '__main__':\n",
        "    main()"
      ],
      "execution_count": null,
      "outputs": []
    },
    {
      "cell_type": "markdown",
      "metadata": {
        "id": "A2BlA22FtG_r"
      },
      "source": [
        "# <font color=\"Crimson\">14</font>&nbsp;<font color=\"silver\">|</font> &nbsp;Regular Expressions"
      ]
    },
    {
      "cell_type": "markdown",
      "metadata": {
        "id": "serLxG6IHMVI"
      },
      "source": [
        "## 14.1 | <font color=\"Crimson\"> 're' library and regular expression\n",
        "Many programming languages, including python, have a string pattern expression method called **regular expression**. Remember that regular expressions are a very powerful tool for working with strings in programming.\n",
        "\n",
        "If you want to use regular expressions in python, you need to call the `re` library (`re` module).\n",
        "Let's use the functions of the `re` library to see what regular expressions are and what they can do.\n",
        "\n",
        "The following is a text explaining the year 2018.\n",
        "```\n",
        "2018 (MMXVIII) was a common year starting on Monday of the Gregorian calendar, the 2018th year of the Common Era (CE) and Anno Domini (AD) designations, the 18th year of the 3rd millennium, the 18th year of the 21st century, and the 9th year of the 2010s decade.\n",
        "```\n",
        "How many of these numbers are represented by Arabic numerals?\n",
        "\n",
        "You can get the answer with just the functions and syntax you have learned so far, but you can easily find out by using regular expressions.\n",
        "\n",
        "To try it out, try running the code below."
      ]
    },
    {
      "cell_type": "code",
      "metadata": {
        "id": "gVgbD-LdEUrA"
      },
      "source": [
        "import re # importing re library.\n",
        "text = \"2018 (MMXVIII) was a common year starting on Monday of the Gregorian calendar, the 2018th year of the Common Era (CE) and Anno Domini (AD) designations, the 18th year of the 3rd millennium, the 18th year of the 21st century, and the 9th year of the 2010s decade.\"\n",
        "pattern = r\"\\d+\"\n",
        "li = re.findall(pattern, text)\n",
        "print( li )"
      ],
      "execution_count": null,
      "outputs": []
    },
    {
      "cell_type": "markdown",
      "metadata": {
        "id": "2_R1Cc0sH3C4"
      },
      "source": [
        "As a result of execution, you will see a list of all the Arabic numerals that can be found in this text.\n",
        "There is a line\n",
        "```\n",
        "pattern = r\"\\d+\"\n",
        "```\n",
        "in this code, and the `\\d +` part is the regular expression. `\\d` represents any single character of the Arabic numerals (0-9), and the following `+` means one or more repetitions of the previous expression.\n",
        "\n",
        "That being said, `\\d +` represents an Arabic numeral that lasts one or more characters. At this time, no specific Arabic numerals are specified, and only the **pattern** of the string is specified.\n",
        "Also, if you want to use a regular expression like the code above, you need to enclose the regular expression in `r\" \"`.\n",
        "\n",
        "The function `re.findall()` used in the code\n",
        "```\n",
        "re.findall(pattern, text)\n",
        "```\n",
        "uses the pattern (regular expression) given to the first argument as the character of the second argument. This searches the sequence and returns a list of matched strings.\n",
        "\n",
        "Here is another example."
      ]
    },
    {
      "cell_type": "code",
      "metadata": {
        "id": "y5AiqmggJDm_"
      },
      "source": [
        "import re # importing re library.\n",
        "text = \"2018 (MMXVIII) was a common year starting on Monday of the Gregorian calendar, the 2018th year of the Common Era (CE) and Anno Domini (AD) designations, the 18th year of the 3rd millennium, the 18th year of the 21st century, and the 9th year of the 2010s decade.\"\n",
        "pattern = r\"[A-Z][a-z]+\"\n",
        "li = re.findall(pattern, text)\n",
        "print( li )"
      ],
      "execution_count": null,
      "outputs": []
    },
    {
      "cell_type": "markdown",
      "metadata": {
        "id": "TmNDXpMqJNIl"
      },
      "source": [
        "This code changes the pattern of the previous code, and outputs the result of searching only for words that have initial capital letters.\n",
        "\n",
        "If numbers and alphabets are connected with hyphens such as `[A-Z]`, `[a-z]`, `[0-9]`, one of alphabets from A to Z or alphabet from a to z (lowercase) or any Arabic numeral from 0-9.\n",
        "\n",
        "By the way, `[0-9]` is almost synonymous with `\\d`.\n",
        "\n",
        "The pattern `[A-Z] [a-z] +` indicates that the first character is one of A to Z, and then one or more characters from a to z follow."
      ]
    },
    {
      "cell_type": "markdown",
      "metadata": {
        "id": "qKzNdYkSJ8sB"
      },
      "source": [
        "`\\w`, `\\d`, and `+` that have special meaning in regular expressions are called metacharacters. It is impossible to introduce all meta characters here, but there are many sites that gather meta characters that can be used in regular expressions.\n",
        "\n",
        "Example:\n",
        "* https://www.shortcutfoo.com/app/dojos/python-regex/cheatsheet\n",
        "* https://www.debuggex.com/cheatsheet/regex/python\n",
        "\n",
        "Please refer to such sites as appropriate.\n",
        "\n",
        "\n",
        "If you want to know more about regular expressions in python, you can visit this site.\n",
        "\n",
        "https://docs.python.org/3/howto/regex.html"
      ]
    },
    {
      "cell_type": "markdown",
      "metadata": {
        "id": "7DqK_LiumpOZ"
      },
      "source": [
        "### Exercise <font color=\"Crimson\">14-1\n",
        "  \n",
        "The pattern ```r\"c[a-z]+\"``` means a string starting with `c`. Using `re.findall()`, make a list containing all words in `text` above started with `c`. Compare it with just ```r\"c[a-z]\"``` or ```r\"c+\"```.\n",
        "\n"
      ]
    },
    {
      "cell_type": "code",
      "metadata": {
        "id": "y3QHcoOSorPG"
      },
      "source": [
        "#Exercise 14-1\n",
        "\n",
        "import re # importing re library.\n",
        "text = \"2018 (MMXVIII) was a common year starting on Monday of the Gregorian calendar, the 2018th year of the Common Era (CE) and Anno Domini (AD) designations, the 18th year of the 3rd millennium, the 18th year of the 21st century, and the 9th year of the 2010s decade.\"\n"
      ],
      "execution_count": null,
      "outputs": []
    },
    {
      "cell_type": "markdown",
      "metadata": {
        "id": "HEni72gmKd28"
      },
      "source": [
        "\n",
        "## 14.2 | <font color=\"Crimson\"> `re` library functions\n",
        "Here we introduce functions of `re` library other than `re.findall()`.\n",
        "\n",
        "| function ||\n",
        "| --- | --- |\n",
        "re.search (pattern, string) | Match pattern anywhere in the string\n",
        "re.split (pattern, string) | Split string by occurrences of pattern\n",
        "re.sub (pattern, str2, string) | Replace leftmost non-overlapping occurrences of pattern in string with str2\n",
        "\n",
        "Let's look at each usage example."
      ]
    },
    {
      "cell_type": "markdown",
      "metadata": {
        "id": "QjJ_iGeRKvOw"
      },
      "source": [
        "#### re.search (pattern, string)\n",
        "This checks if there is a string that matches the pattern. It is convenient to combine with `if` statement like the code below."
      ]
    },
    {
      "cell_type": "code",
      "metadata": {
        "id": "43xv4lmVK00s"
      },
      "source": [
        "import re # importing re library.\n",
        "text = \"2018 (MMXVIII) was a common year starting on Monday of the Gregorian calendar, the 2018th year of the Common Era (CE) and Anno Domini (AD) designations, the 18th year of the 3rd millennium, the 18th year of the 21st century, and the 9th year of the 2010s decade.\"\n",
        "pattern = r\"\\d+\"\n",
        "if re.search(pattern, text):\n",
        "  print(\"The text contains region(s), which match the pattern r\\\"\\d*\\\"\")"
      ],
      "execution_count": null,
      "outputs": []
    },
    {
      "cell_type": "markdown",
      "metadata": {
        "id": "JyHq4rAfhDZy"
      },
      "source": [
        "### Exercise <font color=\"Crimson\">14-2\n",
        "  \n",
        "a.  The pattern ```r\"\\s\"``` means one white-space. Using `re.search`, check if our `text` from example above contains one white-space.\n",
        "  \n",
        "b. The pattern ```r\"\\d{2}\"``` means exactly two digit. Using `re.search`, check if our `text` from example above contains a substring containing 5 digit.\n",
        "\n"
      ]
    },
    {
      "cell_type": "code",
      "metadata": {
        "id": "STLX0cXEi5Tn"
      },
      "source": [
        "#Exercise 14-2\n",
        "import re # importing re library.\n",
        "\n",
        "#a.\n",
        "\n",
        "#b."
      ],
      "execution_count": null,
      "outputs": []
    },
    {
      "cell_type": "markdown",
      "metadata": {
        "id": "9z_hyyJqK4rc"
      },
      "source": [
        "#### re.split (pattern, string)\n",
        "This divides string by a string that matches the pattern and returns it as a list.\n",
        "In this case, the string that matches the pattern does not remain in the list."
      ]
    },
    {
      "cell_type": "code",
      "metadata": {
        "id": "UHkfcZVZK4SQ"
      },
      "source": [
        "import re # importing re library.\n",
        "text = \"2018 (MMXVIII) was a common year starting on Monday of the Gregorian calendar, the 2018th year of the Common Era (CE) and Anno Domini (AD) designations, the 18th year of the 3rd millennium, the 18th year of the 21st century, and the 9th year of the 2010s decade.\"\n",
        "pattern = r\"\\d+\"\n",
        "li = re.split(pattern, text)\n",
        "print( li )"
      ],
      "execution_count": null,
      "outputs": []
    },
    {
      "cell_type": "markdown",
      "metadata": {
        "id": "bttyBCF2LGN1"
      },
      "source": [
        "#### re.sub (pattern, str2, string)\n",
        "This replaces the string that matches the pattern in string with str2."
      ]
    },
    {
      "cell_type": "code",
      "metadata": {
        "id": "dgn9gVwZLYJi"
      },
      "source": [
        "import re # importing re library.\n",
        "text = \"2018 (MMXVIII) was a common year starting on Monday of the Gregorian calendar, the 2018th year of the Common Era (CE) and Anno Domini (AD) designations, the 18th year of the 3rd millennium, the 18th year of the 21st century, and the 9th year of the 2010s decade.\"\n",
        "pattern = r\"\\d+\"\n",
        "result = re.sub(pattern, \"XXXX\", text)\n",
        "print( result )"
      ],
      "execution_count": null,
      "outputs": []
    },
    {
      "cell_type": "markdown",
      "metadata": {
        "id": "MrAiFmjmja0F"
      },
      "source": [
        "### Exercise <font color=\"Crimson\">14-4\n",
        "  \n",
        "Using `re.sub`, try to replace all white space in `text` above with hyphen \"`-`\"."
      ]
    },
    {
      "cell_type": "code",
      "metadata": {
        "id": "_RPQiwLQpRe2"
      },
      "source": [
        "#Exercise 14-4\n",
        "import re\n"
      ],
      "execution_count": null,
      "outputs": []
    },
    {
      "cell_type": "markdown",
      "metadata": {
        "id": "gzsJHhfKUqto"
      },
      "source": [
        "**THIS IS THE END OF THE WORKSHEET**\n",
        "\n",
        "\n"
      ]
    }
  ]
}